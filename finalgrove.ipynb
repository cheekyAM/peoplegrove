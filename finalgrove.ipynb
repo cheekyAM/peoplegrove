{
  "nbformat": 4,
  "nbformat_minor": 0,
  "metadata": {
    "colab": {
      "name": "finalgrove.ipynb",
      "provenance": [],
      "collapsed_sections": []
    },
    "kernelspec": {
      "name": "python3",
      "display_name": "Python 3"
    },
    "language_info": {
      "name": "python"
    }
  },
  "cells": [
    {
      "cell_type": "code",
      "metadata": {
        "colab": {
          "base_uri": "https://localhost:8080/"
        },
        "id": "HPbEogMx8tWk",
        "outputId": "74f38d4b-4d36-4f6a-ba41-6211b62f3217"
      },
      "source": [
        "from google.colab import drive\n",
        "drive.mount('/content/drive')"
      ],
      "execution_count": 2,
      "outputs": [
        {
          "output_type": "stream",
          "text": [
            "Mounted at /content/drive\n"
          ],
          "name": "stdout"
        }
      ]
    },
    {
      "cell_type": "code",
      "metadata": {
        "colab": {
          "base_uri": "https://localhost:8080/"
        },
        "id": "SMus1Cpv9TLp",
        "outputId": "5a40c65f-d7a0-404c-a6df-d742f2a10b4b"
      },
      "source": [
        "%cd /content/drive/MyDrive"
      ],
      "execution_count": 3,
      "outputs": [
        {
          "output_type": "stream",
          "text": [
            "/content/drive/MyDrive\n"
          ],
          "name": "stdout"
        }
      ]
    },
    {
      "cell_type": "code",
      "metadata": {
        "id": "y-swyPMW9cNo"
      },
      "source": [
        "import numpy as np # linear algebra\n",
        "import pandas as pd # data processing, CSV file I/O (e.g. pd.read_csv)\n",
        "import matplotlib.pyplot as plt # data visualization\n",
        "import seaborn as sns # statistical data visualization\n",
        "from sklearn import model_selection\n",
        "%matplotlib inline"
      ],
      "execution_count": 4,
      "outputs": []
    },
    {
      "cell_type": "code",
      "metadata": {
        "id": "o-NLBOqN9d3i"
      },
      "source": [
        "data=pd.read_csv('pg_recommendation_data.csv')"
      ],
      "execution_count": 5,
      "outputs": []
    },
    {
      "cell_type": "code",
      "metadata": {
        "colab": {
          "base_uri": "https://localhost:8080/",
          "height": 289
        },
        "id": "eZmDPw-fJnnZ",
        "outputId": "169ef356-d2ba-4217-ca31-2f3e240439d7"
      },
      "source": [
        "data.head()"
      ],
      "execution_count": 9,
      "outputs": [
        {
          "output_type": "execute_result",
          "data": {
            "text/html": [
              "<div>\n",
              "<style scoped>\n",
              "    .dataframe tbody tr th:only-of-type {\n",
              "        vertical-align: middle;\n",
              "    }\n",
              "\n",
              "    .dataframe tbody tr th {\n",
              "        vertical-align: top;\n",
              "    }\n",
              "\n",
              "    .dataframe thead th {\n",
              "        text-align: right;\n",
              "    }\n",
              "</style>\n",
              "<table border=\"1\" class=\"dataframe\">\n",
              "  <thead>\n",
              "    <tr style=\"text-align: right;\">\n",
              "      <th></th>\n",
              "      <th>mentee_major</th>\n",
              "      <th>mentee_help_topics</th>\n",
              "      <th>mentee_experitse</th>\n",
              "      <th>mentor_major</th>\n",
              "      <th>mentor_help_topics</th>\n",
              "      <th>mentor_experitse</th>\n",
              "      <th>final_match</th>\n",
              "    </tr>\n",
              "  </thead>\n",
              "  <tbody>\n",
              "    <tr>\n",
              "      <th>0</th>\n",
              "      <td>['Accounting and Financial Management']</td>\n",
              "      <td>['Life Skills', 'Cover Letter Review', 'Career...</td>\n",
              "      <td>['Accounting']</td>\n",
              "      <td>['Accounting and Financial Management']</td>\n",
              "      <td>['Parenting vs. Career', 'Career / Industry Tr...</td>\n",
              "      <td>['Finance', 'Accounting']</td>\n",
              "      <td>1</td>\n",
              "    </tr>\n",
              "    <tr>\n",
              "      <th>1</th>\n",
              "      <td>['Information Systems Management']</td>\n",
              "      <td>['Working Overseas', 'Life Skills', 'Startups'...</td>\n",
              "      <td>['Food &amp; Restaurants', 'Law', 'Computer - IT S...</td>\n",
              "      <td>['Information Systems Management', 'Project Ma...</td>\n",
              "      <td>['Leadership Skills', 'Working Overseas', 'Per...</td>\n",
              "      <td>['Trade (Wholesale)', 'Government / Public Adm...</td>\n",
              "      <td>0</td>\n",
              "    </tr>\n",
              "    <tr>\n",
              "      <th>2</th>\n",
              "      <td>['Cybersecurity Technology', 'Computer Network...</td>\n",
              "      <td>['Leadership Skills', 'Personal and Profession...</td>\n",
              "      <td>['Military &amp; Defense', 'Technology', 'Computer...</td>\n",
              "      <td>['Cybersecurity Technology', 'Computer Network...</td>\n",
              "      <td>['Management', 'Resume / CV Review', 'Career /...</td>\n",
              "      <td>['Government / Public Admin', 'Computer - IT S...</td>\n",
              "      <td>1</td>\n",
              "    </tr>\n",
              "    <tr>\n",
              "      <th>3</th>\n",
              "      <td>['Masters of Human Resources Management']</td>\n",
              "      <td>[]</td>\n",
              "      <td>['Human Resources']</td>\n",
              "      <td>['Business Administration']</td>\n",
              "      <td>['Leadership Skills', 'Life Skills', 'Intervie...</td>\n",
              "      <td>['Human Resources', 'Advertising / Marketing',...</td>\n",
              "      <td>0</td>\n",
              "    </tr>\n",
              "    <tr>\n",
              "      <th>4</th>\n",
              "      <td>['Sociology']</td>\n",
              "      <td>['Leadership Skills', 'Life Skills', 'Manageme...</td>\n",
              "      <td>['Healthcare']</td>\n",
              "      <td>['Business Administration']</td>\n",
              "      <td>['Leadership Skills', 'Working Overseas', 'Per...</td>\n",
              "      <td>['Human Resources', 'Computer - Hardware', 'Fi...</td>\n",
              "      <td>0</td>\n",
              "    </tr>\n",
              "  </tbody>\n",
              "</table>\n",
              "</div>"
            ],
            "text/plain": [
              "                                        mentee_major  ... final_match\n",
              "0            ['Accounting and Financial Management']  ...           1\n",
              "1                 ['Information Systems Management']  ...           0\n",
              "2  ['Cybersecurity Technology', 'Computer Network...  ...           1\n",
              "3          ['Masters of Human Resources Management']  ...           0\n",
              "4                                      ['Sociology']  ...           0\n",
              "\n",
              "[5 rows x 7 columns]"
            ]
          },
          "metadata": {},
          "execution_count": 9
        }
      ]
    },
    {
      "cell_type": "code",
      "metadata": {
        "colab": {
          "base_uri": "https://localhost:8080/"
        },
        "id": "BaP2_3vE9hjj",
        "outputId": "d3433b9a-cedf-4aa9-a71b-77f7c6cb6c1c"
      },
      "source": [
        "columns=data.columns\n",
        "data.shape"
      ],
      "execution_count": 6,
      "outputs": [
        {
          "output_type": "execute_result",
          "data": {
            "text/plain": [
              "(48882, 7)"
            ]
          },
          "metadata": {},
          "execution_count": 6
        }
      ]
    },
    {
      "cell_type": "code",
      "metadata": {
        "colab": {
          "base_uri": "https://localhost:8080/"
        },
        "id": "QcaN8TgaJBYq",
        "outputId": "9b8cfbe3-0661-4539-fee7-4e1b3eb9d17e"
      },
      "source": [
        "data.isna().sum()"
      ],
      "execution_count": 7,
      "outputs": [
        {
          "output_type": "execute_result",
          "data": {
            "text/plain": [
              "mentee_major          0\n",
              "mentee_help_topics    0\n",
              "mentee_experitse      0\n",
              "mentor_major          0\n",
              "mentor_help_topics    0\n",
              "mentor_experitse      0\n",
              "final_match           0\n",
              "dtype: int64"
            ]
          },
          "metadata": {},
          "execution_count": 7
        }
      ]
    },
    {
      "cell_type": "code",
      "metadata": {
        "colab": {
          "base_uri": "https://localhost:8080/"
        },
        "id": "iB5PmJATJBsZ",
        "outputId": "cfe5dc48-4d87-4037-8ee5-4e8a3b5dc673"
      },
      "source": [
        "data.isnull().sum()"
      ],
      "execution_count": 8,
      "outputs": [
        {
          "output_type": "execute_result",
          "data": {
            "text/plain": [
              "mentee_major          0\n",
              "mentee_help_topics    0\n",
              "mentee_experitse      0\n",
              "mentor_major          0\n",
              "mentor_help_topics    0\n",
              "mentor_experitse      0\n",
              "final_match           0\n",
              "dtype: int64"
            ]
          },
          "metadata": {},
          "execution_count": 8
        }
      ]
    },
    {
      "cell_type": "markdown",
      "metadata": {
        "id": "qkASAeK5JHvB"
      },
      "source": [
        "no missing values are present, but data has empty lists"
      ]
    },
    {
      "cell_type": "markdown",
      "metadata": {
        "id": "kHmr725UKNyz"
      },
      "source": [
        "input features are all list type so for analysis we will need to use some kind of encoding to transform the data"
      ]
    },
    {
      "cell_type": "code",
      "metadata": {
        "colab": {
          "base_uri": "https://localhost:8080/"
        },
        "id": "hvROh20qJ1xi",
        "outputId": "7e0e88e6-0eda-4f4b-9ea3-86a05cb9892c"
      },
      "source": [
        "data['final_match'].value_counts()"
      ],
      "execution_count": 10,
      "outputs": [
        {
          "output_type": "execute_result",
          "data": {
            "text/plain": [
              "0    24466\n",
              "1    24416\n",
              "Name: final_match, dtype: int64"
            ]
          },
          "metadata": {},
          "execution_count": 10
        }
      ]
    },
    {
      "cell_type": "code",
      "metadata": {
        "colab": {
          "base_uri": "https://localhost:8080/",
          "height": 297
        },
        "id": "y7H_LBkJJ10S",
        "outputId": "92d92406-4296-46f7-b997-6e4d5c5ee0b1"
      },
      "source": [
        "sns.countplot(x='final_match',data=data)"
      ],
      "execution_count": 11,
      "outputs": [
        {
          "output_type": "execute_result",
          "data": {
            "text/plain": [
              "<matplotlib.axes._subplots.AxesSubplot at 0x7f130d773c10>"
            ]
          },
          "metadata": {},
          "execution_count": 11
        },
        {
          "output_type": "display_data",
          "data": {
            "image/png": "[encoded data removed]",
            "text/plain": [
              "<Figure size 432x288 with 1 Axes>"
            ]
          },
          "metadata": {
            "needs_background": "light"
          }
        }
      ]
    },
    {
      "cell_type": "markdown",
      "metadata": {
        "id": "xeAntO4jKbzz"
      },
      "source": [
        "our test set should have the same categories of unique lables, if there is new category, we probably have to drop those rows in train set with category which are not in test sets( undersample). Or we could bring another category for all new categories or the one's which has low ratio of appearing in dataset.\n",
        "\n",
        "Try 2 tricks 1) with frequency of categories or average 2) use one hot encode of frequent categories+ hashing"
      ]
    },
    {
      "cell_type": "markdown",
      "metadata": {
        "id": "r2QfYU8qK3hX"
      },
      "source": [
        "I tried the 1st trick in another notebook on this data, named peoplegrove1. if you want to check you can refer that"
      ]
    },
    {
      "cell_type": "markdown",
      "metadata": {
        "id": "8clXjlFHLa2_"
      },
      "source": [
        "In this notebook, I am going to convert the data samples with lists to single feature value. The technique will be first to change empty lists to category 'NONE', Then change all categories which has a frequency less than 5 in each column to 'RARE'. After that we select the single value from the list based on highest frequency."
      ]
    },
    {
      "cell_type": "code",
      "metadata": {
        "id": "weTenvPC9ks-"
      },
      "source": [
        "def process(data):\n",
        "  cols=data.columns\n",
        "  for i in range(len(data)):\n",
        "    for col in cols:\n",
        "      if data.loc[i,col] == '[]':\n",
        "        data.loc[i,col]='[None]'\n",
        "  for col in cols:\n",
        "    if col != 'final_match':\n",
        "      data[col]=data[col].apply(eval)\n",
        "  return data\n"
      ],
      "execution_count": 6,
      "outputs": []
    },
    {
      "cell_type": "code",
      "metadata": {
        "id": "hposikK7-NOf"
      },
      "source": [
        "data=process(data)"
      ],
      "execution_count": 7,
      "outputs": []
    },
    {
      "cell_type": "markdown",
      "metadata": {
        "id": "JHsFWI9D-Vb0"
      },
      "source": [
        "only two columns have high cardinality mentee_major & mentor_major"
      ]
    },
    {
      "cell_type": "code",
      "metadata": {
        "id": "hoj6qnbV-NRO"
      },
      "source": [
        "def count_dict(data,col):\n",
        "  cat_dict={}\n",
        "  for i,row in data.iterrows():\n",
        "    for word in row[col]:\n",
        "      if word not in cat_dict:\n",
        "        cat_dict[word]=1\n",
        "      else:\n",
        "        cat_dict[word] +=1\n",
        "  return cat_dict"
      ],
      "execution_count": 8,
      "outputs": []
    },
    {
      "cell_type": "code",
      "metadata": {
        "colab": {
          "base_uri": "https://localhost:8080/"
        },
        "id": "SgzxG-1n-NTU",
        "outputId": "c894b3ce-2909-47c2-9d36-653fbba7ff53"
      },
      "source": [
        "dictionary=[]\n",
        "for col in columns:\n",
        "  if col != 'final_match':\n",
        "    cat_dict=count_dict(data,col)\n",
        "    dictionary.append(cat_dict)\n",
        "    print('feature {} has {} unique values'.format(col,len(cat_dict)))"
      ],
      "execution_count": 10,
      "outputs": [
        {
          "output_type": "stream",
          "text": [
            "feature mentee_major has 3938 unique values\n",
            "feature mentee_help_topics has 26 unique values\n",
            "feature mentee_experitse has 57 unique values\n",
            "feature mentor_major has 2894 unique values\n",
            "feature mentor_help_topics has 26 unique values\n",
            "feature mentor_experitse has 57 unique values\n"
          ],
          "name": "stdout"
        }
      ]
    },
    {
      "cell_type": "code",
      "metadata": {
        "id": "sklyCGCe-NVn"
      },
      "source": [
        "def rare_insert(data,col,dic):\n",
        "  for i,row in data.iterrows():\n",
        "    for ind,word in enumerate(row[col]):\n",
        "      if dic[word] < 5:\n",
        "        data.loc[i,col][ind]='RARE'\n",
        "  return data"
      ],
      "execution_count": 12,
      "outputs": []
    },
    {
      "cell_type": "code",
      "metadata": {
        "id": "In4FLdDq-NYW"
      },
      "source": [
        "for i in range(len(columns)):\n",
        "  if columns[i] != 'final_match':\n",
        "    data=rare_insert(data,columns[i],dictionary[i])"
      ],
      "execution_count": 13,
      "outputs": []
    },
    {
      "cell_type": "code",
      "metadata": {
        "id": "hCrGguFW-NaA"
      },
      "source": [
        "data.to_csv('use_later.csv',index=False)"
      ],
      "execution_count": 16,
      "outputs": []
    },
    {
      "cell_type": "code",
      "metadata": {
        "colab": {
          "base_uri": "https://localhost:8080/"
        },
        "id": "9ueMACYlBKer",
        "outputId": "86aea805-f662-496d-accf-ad5974049743"
      },
      "source": [
        "dictionary_new=[]\n",
        "for col in columns:\n",
        "  if col != 'final_match':\n",
        "    cat_dict=count_dict(data,col)\n",
        "    dictionary_new.append(cat_dict)\n",
        "    print('feature {} has {} unique values'.format(col,len(cat_dict)))"
      ],
      "execution_count": 17,
      "outputs": [
        {
          "output_type": "stream",
          "text": [
            "feature mentee_major has 1070 unique values\n",
            "feature mentee_help_topics has 26 unique values\n",
            "feature mentee_experitse has 57 unique values\n",
            "feature mentor_major has 1187 unique values\n",
            "feature mentor_help_topics has 26 unique values\n",
            "feature mentor_experitse has 57 unique values\n"
          ],
          "name": "stdout"
        }
      ]
    },
    {
      "cell_type": "markdown",
      "metadata": {
        "id": "0DTePZNoB2a5"
      },
      "source": [
        "Now lets change the list in data to a single value based on frequency except for rare category\n"
      ]
    },
    {
      "cell_type": "code",
      "metadata": {
        "id": "CKI3ufdFgdSf"
      },
      "source": [
        "def insert_singlevalue(data,col,final_dict):\n",
        "  for i,row in data.iterrows():\n",
        "    z={}\n",
        "    x=row[col]\n",
        "    for v in x:\n",
        "      if v not in z:\n",
        "        z[v]=final_dict[v]\n",
        "    z=z=sorted(z.items(),key=lambda k:k[1])\n",
        "    tup=('RARE',final_dict['RARE'])\n",
        "    if tup not in z:\n",
        "      data.loc[i,col]=z[-1][0]\n",
        "    elif len(z) > 1:\n",
        "      data.loc[i,col]=z[-2][0]\n",
        "    else:\n",
        "      data.loc[i,col]='RARE'\n",
        "  return data"
      ],
      "execution_count": 79,
      "outputs": []
    },
    {
      "cell_type": "code",
      "metadata": {
        "id": "u8Mxu2C2l2Cj"
      },
      "source": [
        "def insert_singlevalue_withoutrare(data,col,final_dict):\n",
        "  for i,row in data.iterrows():\n",
        "    z={}\n",
        "    x=row[col]\n",
        "    for v in x:\n",
        "      if v not in z:\n",
        "        z[v]=final_dict[v]\n",
        "    z=z=sorted(z.items(),key=lambda k:k[1])\n",
        "    data.loc[i,col]=z[-1][0]\n",
        "  return data"
      ],
      "execution_count": 91,
      "outputs": []
    },
    {
      "cell_type": "code",
      "metadata": {
        "id": "UQQGkWBfiifK"
      },
      "source": [
        "data1=data.copy()"
      ],
      "execution_count": 78,
      "outputs": []
    },
    {
      "cell_type": "code",
      "metadata": {
        "id": "kLHb0Mvqk-74"
      },
      "source": [
        "cols=['mentee_major','mentee_help_topics','mentee_experitse','mentor_major','mentor_help_topics','mentor_experitse']"
      ],
      "execution_count": null,
      "outputs": []
    },
    {
      "cell_type": "markdown",
      "metadata": {
        "id": "Jrj2qEloo13P"
      },
      "source": [
        "This below cell will take around 8-10 mins to execute on colab cpu"
      ]
    },
    {
      "cell_type": "code",
      "metadata": {
        "id": "Yup4gEQ6k_Bw"
      },
      "source": [
        "for i in range(len(cols)):\n",
        "  if i==0 or i==3:\n",
        "    data1=insert_singlevalue(data1,cols[i],dictionary_new[i])\n",
        "  else:\n",
        "    data1=insert_singlevalue_withoutrare(data1,cols[i],dictionary_new[i])"
      ],
      "execution_count": null,
      "outputs": []
    },
    {
      "cell_type": "code",
      "metadata": {
        "id": "ME8r46VbnSLO"
      },
      "source": [
        "data1.to_csv('single_feild.csv',index=False)"
      ],
      "execution_count": 94,
      "outputs": []
    },
    {
      "cell_type": "code",
      "metadata": {
        "id": "yZcHJCTVpcwH"
      },
      "source": [
        ""
      ],
      "execution_count": null,
      "outputs": []
    },
    {
      "cell_type": "markdown",
      "metadata": {
        "id": "laSdDu56M-2C"
      },
      "source": [
        "Below I am going to try different models and encodings on the above transformed data."
      ]
    },
    {
      "cell_type": "markdown",
      "metadata": {
        "id": "5s7u-JIgMlKf"
      },
      "source": [
        "**Feature Engineering:** We can find out the importance of features based on variance (say selecting features with variance greater than some threshold.\n",
        "OR we can also remove features which have high correleation.\n",
        "\n",
        "I have already done feature engineering in another notebook named peoplegrove1, and found out no feature has variance less than threshold of 0.1, So I have selected all features for modelling."
      ]
    },
    {
      "cell_type": "code",
      "metadata": {
        "id": "T6YPbh60pcyv"
      },
      "source": [
        "from sklearn import decomposition\n",
        "from scipy import sparse\n",
        "from sklearn import model_selection,preprocessing,metrics\n",
        "from sklearn import ensemble\n",
        "from xgboost import XGBClassifier\n",
        "from sklearn import linear_model"
      ],
      "execution_count": 126,
      "outputs": []
    },
    {
      "cell_type": "code",
      "metadata": {
        "id": "ddXROt9wk_Du"
      },
      "source": [
        "import os\n",
        "import gc\n",
        "import joblib\n",
        "import pandas as pd\n",
        "import numpy as np\n",
        "from sklearn import metrics, preprocessing\n",
        "from tensorflow.keras import layers\n",
        "from tensorflow.keras import optimizers\n",
        "from tensorflow.keras.models import Model, load_model\n",
        "from tensorflow.keras import callbacks\n",
        "from tensorflow.keras import backend as K\n",
        "from tensorflow.keras import utils"
      ],
      "execution_count": 97,
      "outputs": []
    },
    {
      "cell_type": "markdown",
      "metadata": {
        "id": "TklZmx_dN3Cn"
      },
      "source": [
        "**Splittting Data** splitting data using with 80% train size and 20% test size, since the classes in data are evenly balanced we don't need to use class imbalance techniques. Although we can use simple cross validation scheme( here used stratifiedkfold technique)."
      ]
    },
    {
      "cell_type": "code",
      "metadata": {
        "id": "41c6IHp0qHQ5"
      },
      "source": [
        "def cross_valid(df):\n",
        "  df['kfold']=-1\n",
        "  df=df.sample(frac=1).reset_index(drop=True)\n",
        "  y=df.final_match.values\n",
        "  kf=model_selection.StratifiedKFold(n_splits=5)\n",
        "  for f,(t_,v_) in enumerate(kf.split(X=df,y=y)):\n",
        "    df.loc[v_,'kfold']=f\n",
        "  return df"
      ],
      "execution_count": 99,
      "outputs": []
    },
    {
      "cell_type": "markdown",
      "metadata": {
        "id": "SYF83NqDNRVO"
      },
      "source": [
        "Build Simple Neural Network with entity embedding and see the behaviour, using neural networks is common for data with high cardinality features."
      ]
    },
    {
      "cell_type": "code",
      "metadata": {
        "id": "lqKAjzv2k_Gg"
      },
      "source": [
        "def create_model(data,catcols):\n",
        "  inputs=[]\n",
        "  outputs=[]\n",
        "  for c in catcols:\n",
        "    num_unique_values=int(data[c].nunique())\n",
        "    embed_dim=int(min(np.ceil((num_unique_values)/2),50))\n",
        "    inp=layers.Input(shape=(1,))\n",
        "    out=layers.Embedding(num_unique_values+1,embed_dim,name=c)(inp)\n",
        "    out=layers.SpatialDropout1D(0.3)(out)\n",
        "    out=layers.Reshape(target_shape=(embed_dim,))(out)\n",
        "    inputs.append(inp)\n",
        "    outputs.append(out)\n",
        "  \n",
        "  x=layers.Concatenate()(outputs)\n",
        "  x=layers.BatchNormalization()(x)\n",
        "  x=layers.Dense(300,activation='relu')(x)\n",
        "  x=layers.Dropout(0.3)(x)\n",
        "  x=layers.BatchNormalization()(x)\n",
        "  x=layers.Dense(300,activation='relu')(x)\n",
        "  x=layers.Dropout(0.3)(x)\n",
        "  x=layers.BatchNormalization()(x)\n",
        "  x=layers.Dense(50,activation='relu')(x)\n",
        "  x=layers.Dropout(0.3)(x)\n",
        "  x=layers.BatchNormalization()(x)\n",
        "\n",
        "  y=layers.Dense(1,activation='sigmoid')(x)\n",
        "  model=Model(inputs=inputs,outputs=y)\n",
        "  model.compile(loss='binary_crossentropy',optimizer='adam',metrics=['accuracy'])\n",
        "  return model\n"
      ],
      "execution_count": 118,
      "outputs": []
    },
    {
      "cell_type": "code",
      "metadata": {
        "id": "jdpjyeTiqK7J"
      },
      "source": [
        "def runn(df,fold):\n",
        "  features=[f for f in df.columns if f not in ('final_match','kfold')]\n",
        "  for col in features:\n",
        "    df.loc[:, col] = df[col].astype(str)\n",
        "  for col in features:\n",
        "    lbl_enc=preprocessing.LabelEncoder()\n",
        "    df.loc[:,col]=lbl_enc.fit_transform(df[col].values)\n",
        "\n",
        "  #print\n",
        "  df_train=df[df.kfold !=fold].reset_index(drop=True)\n",
        "  df_valid=df[df.kfold==fold].reset_index(drop=True)\n",
        "\n",
        "  model=create_model(df,features)\n",
        "  xtrain = [df_train[features].values[:, k] for k in range(len(features))]\n",
        "  xvalid = [df_valid[features].values[:, k] for k in range(len(features))]\n",
        "  # fetch target columns\n",
        "  ytrain = df_train.final_match.values\n",
        "  yvalid = df_valid.final_match.values\n",
        "\n",
        "  # ytrain_cat = utils.to_categorical(ytrain)\n",
        "  # yvalid_cat = utils.to_categorical(yvalid)\n",
        "\n",
        "  # fit the model\n",
        "  model.fit(xtrain,ytrain,validation_data=(xvalid, yvalid),verbose=1,batch_size=32,epochs=10)\n",
        "\n",
        "  loss,acc = model.evaluate(xvalid,yvalid)\n",
        "  # print roc auc score\n",
        "  print(\"acc: %.3f\" %acc)\n",
        "  # print(yvalid[0])\n",
        "  # print(metrics.roc_auc_score(yvalid, valid_preds))\n",
        "  # clear session to free up some GPU memory\n",
        "  K.clear_session()\n",
        "\n"
      ],
      "execution_count": 119,
      "outputs": []
    },
    {
      "cell_type": "code",
      "metadata": {
        "id": "F5U1-RpBWWox"
      },
      "source": [
        "cv_data=cross_valid(data1)"
      ],
      "execution_count": 122,
      "outputs": []
    },
    {
      "cell_type": "code",
      "metadata": {
        "colab": {
          "base_uri": "https://localhost:8080/",
          "height": 204
        },
        "id": "QEqSNsxhqf0Q",
        "outputId": "d9cd673c-4f1c-4e50-b20b-d8b0e2dc2aef"
      },
      "source": [
        "cv_data.head()"
      ],
      "execution_count": 112,
      "outputs": [
        {
          "output_type": "execute_result",
          "data": {
            "text/html": [
              "<div>\n",
              "<style scoped>\n",
              "    .dataframe tbody tr th:only-of-type {\n",
              "        vertical-align: middle;\n",
              "    }\n",
              "\n",
              "    .dataframe tbody tr th {\n",
              "        vertical-align: top;\n",
              "    }\n",
              "\n",
              "    .dataframe thead th {\n",
              "        text-align: right;\n",
              "    }\n",
              "</style>\n",
              "<table border=\"1\" class=\"dataframe\">\n",
              "  <thead>\n",
              "    <tr style=\"text-align: right;\">\n",
              "      <th></th>\n",
              "      <th>mentee_major</th>\n",
              "      <th>mentee_help_topics</th>\n",
              "      <th>mentee_experitse</th>\n",
              "      <th>mentor_major</th>\n",
              "      <th>mentor_help_topics</th>\n",
              "      <th>mentor_experitse</th>\n",
              "      <th>final_match</th>\n",
              "      <th>kfold</th>\n",
              "    </tr>\n",
              "  </thead>\n",
              "  <tbody>\n",
              "    <tr>\n",
              "      <th>0</th>\n",
              "      <td>Cyber Security</td>\n",
              "      <td>Career Planning</td>\n",
              "      <td>Computer - IT Services</td>\n",
              "      <td>Cyber Security</td>\n",
              "      <td>Leadership Skills</td>\n",
              "      <td>Computer - IT Services</td>\n",
              "      <td>1</td>\n",
              "      <td>0</td>\n",
              "    </tr>\n",
              "    <tr>\n",
              "      <th>1</th>\n",
              "      <td>Computer Networks and Cybersecurity</td>\n",
              "      <td>None</td>\n",
              "      <td>Computer - IT Services</td>\n",
              "      <td>None</td>\n",
              "      <td>Leadership Skills</td>\n",
              "      <td>Human Resources</td>\n",
              "      <td>0</td>\n",
              "      <td>0</td>\n",
              "    </tr>\n",
              "    <tr>\n",
              "      <th>2</th>\n",
              "      <td>Criminal Justice and Corrections</td>\n",
              "      <td>Internship Search Strategies</td>\n",
              "      <td>Cybersecurity</td>\n",
              "      <td>Computer Science</td>\n",
              "      <td>None</td>\n",
              "      <td>None</td>\n",
              "      <td>1</td>\n",
              "      <td>0</td>\n",
              "    </tr>\n",
              "    <tr>\n",
              "      <th>3</th>\n",
              "      <td>Business Management</td>\n",
              "      <td>Career Planning</td>\n",
              "      <td>Business Services</td>\n",
              "      <td>Business Management</td>\n",
              "      <td>None</td>\n",
              "      <td>Business Services</td>\n",
              "      <td>0</td>\n",
              "      <td>0</td>\n",
              "    </tr>\n",
              "    <tr>\n",
              "      <th>4</th>\n",
              "      <td>Business Administration</td>\n",
              "      <td>None</td>\n",
              "      <td>None</td>\n",
              "      <td>Business Administration</td>\n",
              "      <td>None</td>\n",
              "      <td>None</td>\n",
              "      <td>0</td>\n",
              "      <td>0</td>\n",
              "    </tr>\n",
              "  </tbody>\n",
              "</table>\n",
              "</div>"
            ],
            "text/plain": [
              "                          mentee_major  ... kfold\n",
              "0                       Cyber Security  ...     0\n",
              "1  Computer Networks and Cybersecurity  ...     0\n",
              "2     Criminal Justice and Corrections  ...     0\n",
              "3                  Business Management  ...     0\n",
              "4              Business Administration  ...     0\n",
              "\n",
              "[5 rows x 8 columns]"
            ]
          },
          "metadata": {},
          "execution_count": 112
        }
      ]
    },
    {
      "cell_type": "code",
      "metadata": {
        "colab": {
          "base_uri": "https://localhost:8080/"
        },
        "id": "gtBfz_i4qf3M",
        "outputId": "4faa8e75-220c-43bb-b696-2c83fffb7fd6"
      },
      "source": [
        "for i in range(1):\n",
        "  runn(cv_data,i)"
      ],
      "execution_count": 120,
      "outputs": [
        {
          "output_type": "stream",
          "text": [
            "Epoch 1/10\n",
            "1223/1223 [==============================] - 11s 7ms/step - loss: 0.5862 - accuracy: 0.6859 - val_loss: 0.5069 - val_accuracy: 0.7343\n",
            "Epoch 2/10\n",
            "1223/1223 [==============================] - 8s 7ms/step - loss: 0.5251 - accuracy: 0.7265 - val_loss: 0.5015 - val_accuracy: 0.7396\n",
            "Epoch 3/10\n",
            "1223/1223 [==============================] - 8s 7ms/step - loss: 0.5123 - accuracy: 0.7366 - val_loss: 0.4929 - val_accuracy: 0.7404\n",
            "Epoch 4/10\n",
            "1223/1223 [==============================] - 8s 7ms/step - loss: 0.5071 - accuracy: 0.7398 - val_loss: 0.4894 - val_accuracy: 0.7438\n",
            "Epoch 5/10\n",
            "1223/1223 [==============================] - 8s 7ms/step - loss: 0.4993 - accuracy: 0.7445 - val_loss: 0.4884 - val_accuracy: 0.7427\n",
            "Epoch 6/10\n",
            "1223/1223 [==============================] - 8s 7ms/step - loss: 0.4948 - accuracy: 0.7449 - val_loss: 0.4904 - val_accuracy: 0.7420\n",
            "Epoch 7/10\n",
            "1223/1223 [==============================] - 8s 7ms/step - loss: 0.4892 - accuracy: 0.7493 - val_loss: 0.4888 - val_accuracy: 0.7460\n",
            "Epoch 8/10\n",
            "1223/1223 [==============================] - 8s 7ms/step - loss: 0.4880 - accuracy: 0.7492 - val_loss: 0.4858 - val_accuracy: 0.7450\n",
            "Epoch 9/10\n",
            "1223/1223 [==============================] - 8s 6ms/step - loss: 0.4841 - accuracy: 0.7506 - val_loss: 0.4860 - val_accuracy: 0.7473\n",
            "Epoch 10/10\n",
            "1223/1223 [==============================] - 8s 6ms/step - loss: 0.4812 - accuracy: 0.7531 - val_loss: 0.4865 - val_accuracy: 0.7485\n",
            "306/306 [==============================] - 1s 2ms/step - loss: 0.4865 - accuracy: 0.7485\n",
            "acc: 0.748\n"
          ],
          "name": "stdout"
        }
      ]
    },
    {
      "cell_type": "code",
      "metadata": {
        "id": "7cXXDZpZrGAP"
      },
      "source": [
        ""
      ],
      "execution_count": null,
      "outputs": []
    },
    {
      "cell_type": "code",
      "metadata": {
        "id": "yvkZ6sWmwXpY"
      },
      "source": [
        ""
      ],
      "execution_count": null,
      "outputs": []
    },
    {
      "cell_type": "markdown",
      "metadata": {
        "id": "LgolScTxNlC2"
      },
      "source": [
        "**Encoding :** Here we are kind gonna transform feature categories and test models based on these encodings, I am going to try both label Encoder and OneHot Encoding to observe the results. But the problem with onehot encoding this data is, i will get huge number of columns which will be difficult to execute, so with onehot encoding, i am going to do dimentionality reduction of the data using SVD and keep only 120 high varaince columns."
      ]
    },
    {
      "cell_type": "markdown",
      "metadata": {
        "id": "oQerfViwxiXD"
      },
      "source": [
        "# use logistic Regression and random forest with OneHot Encoder"
      ]
    },
    {
      "cell_type": "code",
      "metadata": {
        "id": "RUqwQDMCxlB2"
      },
      "source": [
        "def run_onehot(df,fold,md):\n",
        "  features=[f for f in df.columns if f not in ('final_match','kfold')]\n",
        "  for col in features:\n",
        "    df.loc[:, col] = df[col].astype(str)\n",
        "\n",
        "  df_train=df[df.kfold !=fold].reset_index(drop=True)\n",
        "  df_valid=df[df.kfold==fold].reset_index(drop=True)\n",
        "\n",
        "  ohe = preprocessing.OneHotEncoder()\n",
        "  # fit ohe on training + validation features\n",
        "  full_data = pd.concat(\n",
        "  [df_train[features], df_valid[features]],\n",
        "  axis=0\n",
        "  )\n",
        "  ohe.fit(full_data[features])\n",
        "  x_train = ohe.transform(df_train[features])\n",
        "  # transform validation data\n",
        "  x_valid = ohe.transform(df_valid[features])\n",
        "  # initialize Truncated SVD\n",
        "  # I am reducing the data to 120 components\n",
        "  svd = decomposition.TruncatedSVD(n_components=120)\n",
        "  # fit svd on full sparse training data\n",
        "  full_sparse = sparse.vstack((x_train, x_valid))\n",
        "  svd.fit(full_sparse)\n",
        "  # transform sparse training data\n",
        "  x_train = svd.transform(x_train)\n",
        "  # transform sparse validation data\n",
        "  x_valid = svd.transform(x_valid)\n",
        "  # initialize the model\n",
        "  model = md\n",
        "  # fit model on training data (ohe)\n",
        "  model.fit(x_train, df_train.final_match.values)\n",
        "  # predict on validation data\n",
        "  pred=model.predict(x_valid)\n",
        "  pred_train=model.predict(x_train)\n",
        "  acc=metrics.accuracy_score(df_valid.final_match.values,pred)\n",
        "  train_acc=metrics.accuracy_score(df_train.final_match.values,pred_train)\n",
        "  # print acc\n",
        "  print(f\"Fold = {fold}, Accuracy = {acc}\")\n",
        "  return model,train_acc,acc"
      ],
      "execution_count": 148,
      "outputs": []
    },
    {
      "cell_type": "code",
      "metadata": {
        "colab": {
          "base_uri": "https://localhost:8080/"
        },
        "id": "5cua0Sec0VTa",
        "outputId": "a22e4b50-12b2-4fe9-bd3c-a3066d03ad8e"
      },
      "source": [
        "for i in range(5):\n",
        "  run_onehot(cv_data,i,linear_model.LogisticRegression())"
      ],
      "execution_count": 139,
      "outputs": [
        {
          "output_type": "stream",
          "text": [
            "Fold = 0, Accuracy = 0.7126930551293853\n",
            "Fold = 1, Accuracy = 0.7121816508131329\n",
            "Fold = 2, Accuracy = 0.7176759410801964\n",
            "Fold = 3, Accuracy = 0.7108224222585925\n",
            "Fold = 4, Accuracy = 0.7096972176759411\n"
          ],
          "name": "stdout"
        }
      ]
    },
    {
      "cell_type": "code",
      "metadata": {
        "colab": {
          "base_uri": "https://localhost:8080/"
        },
        "id": "vTj7ACFp0VVt",
        "outputId": "25bbfb83-6e88-41ad-9bb1-0d41eb7928d2"
      },
      "source": [
        "for i in range(5):\n",
        "  run_onehot(cv_data,i,ensemble.RandomForestClassifier(n_jobs=-1))"
      ],
      "execution_count": 140,
      "outputs": [
        {
          "output_type": "stream",
          "text": [
            "Fold = 0, Accuracy = 0.7304899253349698\n",
            "Fold = 1, Accuracy = 0.7348880024547407\n",
            "Fold = 2, Accuracy = 0.7381342062193126\n",
            "Fold = 3, Accuracy = 0.7231996726677578\n",
            "Fold = 4, Accuracy = 0.738747954173486\n"
          ],
          "name": "stdout"
        }
      ]
    },
    {
      "cell_type": "code",
      "metadata": {
        "colab": {
          "base_uri": "https://localhost:8080/"
        },
        "id": "q7gcACwl4T_M",
        "outputId": "d62c3b10-2ceb-4ce9-8149-2e35503eb15e"
      },
      "source": [
        "for i in range(5):\n",
        "  run_onehot(cv_data,i,XGBClassifier())"
      ],
      "execution_count": 145,
      "outputs": [
        {
          "output_type": "stream",
          "text": [
            "Fold = 0, Accuracy = 0.7290579932494631\n",
            "Fold = 1, Accuracy = 0.7284443080699601\n",
            "Fold = 2, Accuracy = 0.7314852700490998\n",
            "Fold = 3, Accuracy = 0.7244271685761048\n",
            "Fold = 4, Accuracy = 0.7290302782324058\n"
          ],
          "name": "stdout"
        }
      ]
    },
    {
      "cell_type": "markdown",
      "metadata": {
        "id": "xNBfG51n4Xof"
      },
      "source": [
        "# Logistic Regression and Random forest using Label Encoder"
      ]
    },
    {
      "cell_type": "code",
      "metadata": {
        "id": "WzRAoloz4eK2"
      },
      "source": [
        "def run_labl(df,fold,md):\n",
        "  features=[f for f in df.columns if f not in ('final_match','kfold')]\n",
        "  for col in features:\n",
        "    df.loc[:, col] = df[col].astype(str)\n",
        "  for col in features:\n",
        "    lbl = preprocessing.LabelEncoder()\n",
        "    # fit label encoder on all data\n",
        "    lbl.fit(df[col])\n",
        "    # transform all the data\n",
        "    df.loc[:, col] = lbl.transform(df[col])\n",
        "\n",
        "  df_train=df[df.kfold !=fold].reset_index(drop=True)\n",
        "  df_valid=df[df.kfold==fold].reset_index(drop=True)\n",
        "\n",
        "  # get training data\n",
        "  x_train = df_train[features].values\n",
        "  # get validation data\n",
        "  x_valid = df_valid[features].values\n",
        "  model = md\n",
        "  # fit model on training data (ohe)\n",
        "  model.fit(x_train, df_train.final_match.values)\n",
        "  # predict on validation data\n",
        "  pred=model.predict(x_valid)\n",
        "  pred_train=model.predict(x_train)\n",
        "  acc=metrics.accuracy_score(df_valid.final_match.values,pred)\n",
        "  train_acc=metrics.accuracy_score(df_train.final_match.values,pred_train)\n",
        "  # print acc\n",
        "  print('Accuracy = ',{acc})\n",
        "  return model,train_acc,acc"
      ],
      "execution_count": 155,
      "outputs": []
    },
    {
      "cell_type": "code",
      "metadata": {
        "colab": {
          "base_uri": "https://localhost:8080/"
        },
        "id": "1KOPJzAz5rx9",
        "outputId": "c202f4d4-c5c8-41d9-ec84-e30b56b1a4ac"
      },
      "source": [
        "for i in range(5):\n",
        "  run_labl(cv_data,i,linear_model.LogisticRegression())"
      ],
      "execution_count": 142,
      "outputs": [
        {
          "output_type": "stream",
          "text": [
            "Fold = 0, Accuracy = 0.6599161296921346\n",
            "Fold = 1, Accuracy = 0.5408612048685691\n",
            "Fold = 2, Accuracy = 0.6558919803600655\n",
            "Fold = 3, Accuracy = 0.5595335515548282\n",
            "Fold = 4, Accuracy = 0.5539075286415712\n"
          ],
          "name": "stdout"
        }
      ]
    },
    {
      "cell_type": "code",
      "metadata": {
        "colab": {
          "base_uri": "https://localhost:8080/"
        },
        "id": "SpC_0qiF51ph",
        "outputId": "8fc413ea-6fb2-4c9f-c8eb-16bd9af61853"
      },
      "source": [
        "for i in range(5):\n",
        "  run_labl(cv_data,i,ensemble.RandomForestClassifier())"
      ],
      "execution_count": 143,
      "outputs": [
        {
          "output_type": "stream",
          "text": [
            "Fold = 0, Accuracy = 0.7429681906515291\n",
            "Fold = 1, Accuracy = 0.743581875831032\n",
            "Fold = 2, Accuracy = 0.7437602291325696\n",
            "Fold = 3, Accuracy = 0.7222790507364976\n",
            "Fold = 4, Accuracy = 0.7418166939443536\n"
          ],
          "name": "stdout"
        }
      ]
    },
    {
      "cell_type": "code",
      "metadata": {
        "colab": {
          "base_uri": "https://localhost:8080/"
        },
        "id": "HsAgx_5S6WZB",
        "outputId": "56d128a9-6210-4361-f8bb-018fe44d0399"
      },
      "source": [
        "for i in range(5):\n",
        "  run_labl(cv_data,i,XGBClassifier())"
      ],
      "execution_count": 144,
      "outputs": [
        {
          "output_type": "stream",
          "text": [
            "Fold = 0, Accuracy = 0.7227165797279329\n",
            "Fold = 1, Accuracy = 0.7217960519586786\n",
            "Fold = 2, Accuracy = 0.7212561374795418\n",
            "Fold = 3, Accuracy = 0.7157324058919804\n",
            "Fold = 4, Accuracy = 0.7190057283142389\n"
          ],
          "name": "stdout"
        }
      ]
    },
    {
      "cell_type": "code",
      "metadata": {
        "colab": {
          "base_uri": "https://localhost:8080/"
        },
        "id": "YZM_CF18GL_O",
        "outputId": "595a65d5-77fc-4eac-aa7a-16506d18bcde"
      },
      "source": [
        "run_labl(cv_data,4,XGBClassifier(n_jobs=-1,max_depth=7,n_estimators=200))"
      ],
      "execution_count": 150,
      "outputs": [
        {
          "output_type": "stream",
          "text": [
            "Fold = 4, Accuracy = 0.7474427168576104\n"
          ],
          "name": "stdout"
        },
        {
          "output_type": "execute_result",
          "data": {
            "text/plain": [
              "(XGBClassifier(base_score=0.5, booster='gbtree', colsample_bylevel=1,\n",
              "               colsample_bynode=1, colsample_bytree=1, gamma=0,\n",
              "               learning_rate=0.1, max_delta_step=0, max_depth=7,\n",
              "               min_child_weight=1, missing=None, n_estimators=200, n_jobs=-1,\n",
              "               nthread=None, objective='binary:logistic', random_state=0,\n",
              "               reg_alpha=0, reg_lambda=1, scale_pos_weight=1, seed=None,\n",
              "               silent=None, subsample=1, verbosity=1),\n",
              " 0.8043267017848923,\n",
              " 0.7474427168576104)"
            ]
          },
          "metadata": {},
          "execution_count": 150
        }
      ]
    },
    {
      "cell_type": "markdown",
      "metadata": {
        "id": "8QNX2VyoP00c"
      },
      "source": [
        "From above experiments, It seems obvious that Randomforest and xgboost are perfoming little better than logistic regression. "
      ]
    },
    {
      "cell_type": "markdown",
      "metadata": {
        "id": "uxV4yj7eG7dx"
      },
      "source": [
        "**Hyperparameter tuning:** Let fine tune these model's hyperparameter to find the best parameters and accuracy"
      ]
    },
    {
      "cell_type": "code",
      "metadata": {
        "id": "4F63eHE7GMBn"
      },
      "source": [
        "from matplotlib.legend_handler import HandlerLine2D\n",
        "def plott(ta,va,param,namex):\n",
        "  line1, = plt.plot(param, ta, 'b', label='Train ACC')\n",
        "  line2, = plt.plot(param, va, 'r', label='Test ACC')\n",
        "  plt.legend(handler_map={line1: HandlerLine2D(numpoints=2)})\n",
        "  plt.ylabel('ACCURACY')\n",
        "  plt.xlabel(namex)\n",
        "  plt.show()"
      ],
      "execution_count": 147,
      "outputs": []
    },
    {
      "cell_type": "markdown",
      "metadata": {
        "id": "eTc1PErFQHYe"
      },
      "source": [
        "Tune estimators for RandomForest."
      ]
    },
    {
      "cell_type": "code",
      "metadata": {
        "colab": {
          "base_uri": "https://localhost:8080/"
        },
        "id": "TBf19UmLGMEH",
        "outputId": "a6272742-5c37-4ab0-c4de-40ffe0b78348"
      },
      "source": [
        "estimators=[50,100,200,300,400,500]\n",
        "trainn=[]\n",
        "testt=[]\n",
        "for est in estimators:\n",
        "  print('For estimators={}'.format(est))\n",
        "  _,a,b=run_labl(cv_data,0,ensemble.RandomForestClassifier(n_estimators=est,max_depth=6) )\n",
        "  trainn.append(a)\n",
        "  testt.append(b)\n",
        "  "
      ],
      "execution_count": 158,
      "outputs": [
        {
          "output_type": "stream",
          "text": [
            "For estimators=50\n",
            "Accuracy =  {0.7129998977191367}\n",
            "For estimators=100\n",
            "Accuracy =  {0.704408305206096}\n",
            "For estimators=200\n",
            "Accuracy =  {0.710749718727626}\n",
            "For estimators=300\n",
            "Accuracy =  {0.7067607650608572}\n",
            "For estimators=400\n",
            "Accuracy =  {0.7089086631891173}\n",
            "For estimators=500\n",
            "Accuracy =  {0.7156592001636494}\n"
          ],
          "name": "stdout"
        }
      ]
    },
    {
      "cell_type": "code",
      "metadata": {
        "colab": {
          "base_uri": "https://localhost:8080/",
          "height": 280
        },
        "id": "ngutNP-5GMGg",
        "outputId": "defe5665-8fbc-4d0e-8bd5-6fc88e2a8520"
      },
      "source": [
        "plott(trainn,testt,estimators,'n_estimators')"
      ],
      "execution_count": 159,
      "outputs": [
        {
          "output_type": "display_data",
          "data": {
            "image/png": "[encoded data removed]",
            "text/plain": [
              "<Figure size 432x288 with 1 Axes>"
            ]
          },
          "metadata": {
            "needs_background": "light"
          }
        }
      ]
    },
    {
      "cell_type": "markdown",
      "metadata": {
        "id": "BcJUYlnSPNad"
      },
      "source": [
        "It seems estimators have irregular effects, lets keep estimator to 200 for now. \n",
        "Lets tune max_depth for RandomForest now."
      ]
    },
    {
      "cell_type": "code",
      "metadata": {
        "colab": {
          "base_uri": "https://localhost:8080/"
        },
        "id": "fN0gj6CqGMJP",
        "outputId": "0f6dea15-69be-460c-9ba0-9df35143a962"
      },
      "source": [
        "train_accur=[]\n",
        "valid_accur=[]\n",
        "max_depth1=[4,6,8,10,12,15,18]\n",
        "for depth in max_depth1:\n",
        "  print('For max_depth={}'.format(depth))\n",
        "  _,a,b=run_labl(cv_data,0,ensemble.RandomForestClassifier(n_estimators=200,max_depth=depth) )\n",
        "  train_accur.append(a)\n",
        "  valid_accur.append(b)"
      ],
      "execution_count": 160,
      "outputs": [
        {
          "output_type": "stream",
          "text": [
            "For max_depth=4\n",
            "Accuracy =  {0.6963281170093075}\n",
            "For max_depth=6\n",
            "Accuracy =  {0.7110565613173775}\n",
            "For max_depth=8\n",
            "Accuracy =  {0.7239439500869387}\n",
            "For max_depth=10\n",
            "Accuracy =  {0.7321264191469776}\n",
            "For max_depth=12\n",
            "Accuracy =  {0.7418431011557738}\n",
            "For max_depth=15\n",
            "Accuracy =  {0.7495141658995602}\n",
            "For max_depth=18\n",
            "Accuracy =  {0.7519689066175719}\n"
          ],
          "name": "stdout"
        }
      ]
    },
    {
      "cell_type": "code",
      "metadata": {
        "colab": {
          "base_uri": "https://localhost:8080/",
          "height": 280
        },
        "id": "jBPiczv6GMMc",
        "outputId": "fa30fda0-754d-4ec9-e931-f9ea056dd9c2"
      },
      "source": [
        "plott(train_accur,valid_accur,max_depth1,'max_depth')"
      ],
      "execution_count": 161,
      "outputs": [
        {
          "output_type": "display_data",
          "data": {
            "image/png": "[encoded data removed]",
            "text/plain": [
              "<Figure size 432x288 with 1 Axes>"
            ]
          },
          "metadata": {
            "needs_background": "light"
          }
        }
      ]
    },
    {
      "cell_type": "markdown",
      "metadata": {
        "id": "yLVSWgToPZQp"
      },
      "source": [
        "It seems max_depth 12 is fine, after that train set is going to overfit."
      ]
    },
    {
      "cell_type": "code",
      "metadata": {
        "colab": {
          "base_uri": "https://localhost:8080/"
        },
        "id": "iuHS1QlyGMOJ",
        "outputId": "d538a5bf-470f-460a-bc5a-6859154bd775"
      },
      "source": [
        "finalmodel1,train_acc,valid_acc=run_labl(cv_data,0,ensemble.RandomForestClassifier(n_estimators=200,max_depth=12) )\n",
        "print('train Accuracy = ',train_acc)\n",
        "print('valid Accuracy = ',valid_acc)"
      ],
      "execution_count": 162,
      "outputs": [
        {
          "output_type": "stream",
          "text": [
            "Accuracy =  {0.7486959189935563}\n",
            "train Accuracy =  0.7932489451476793\n",
            "valid Accuracy =  0.7486959189935563\n"
          ],
          "name": "stdout"
        }
      ]
    },
    {
      "cell_type": "code",
      "metadata": {
        "id": "I2FRrTTPGMQ3"
      },
      "source": [
        ""
      ],
      "execution_count": null,
      "outputs": []
    },
    {
      "cell_type": "markdown",
      "metadata": {
        "id": "5jokdP1HQU0M"
      },
      "source": [
        "Lets Tune the parameters for **XGBClassifier** now."
      ]
    },
    {
      "cell_type": "code",
      "metadata": {
        "colab": {
          "base_uri": "https://localhost:8080/"
        },
        "id": "m5rGBgYrGMTJ",
        "outputId": "c31a6a6c-6eec-4224-dca4-3788058ef89b"
      },
      "source": [
        "train_accuracy=[]\n",
        "valid_accuracy=[]\n",
        "max_depth=[4,6,8,10,12,15,18]\n",
        "for depth in max_depth:\n",
        "  print('For max_depth={}'.format(depth))\n",
        "  _,a,b=run_labl(cv_data,0,XGBClassifier(max_depth=depth,learning_rate=0.1,n_estimators=200) )\n",
        "  train_accuracy.append(a)\n",
        "  valid_accuracy.append(b)\n",
        "  print(\"\\n\")"
      ],
      "execution_count": 163,
      "outputs": [
        {
          "output_type": "stream",
          "text": [
            "For max_depth=4\n",
            "Accuracy =  {0.7451160887797893}\n",
            "\n",
            "\n",
            "For max_depth=6\n",
            "Accuracy =  {0.750536974532065}\n",
            "\n",
            "\n",
            "For max_depth=8\n",
            "Accuracy =  {0.7598445330878593}\n",
            "\n",
            "\n",
            "For max_depth=10\n",
            "Accuracy =  {0.7567761071903447}\n",
            "\n",
            "\n",
            "For max_depth=12\n",
            "Accuracy =  {0.7538099621560806}\n",
            "\n",
            "\n",
            "For max_depth=15\n",
            "Accuracy =  {0.7506392553953155}\n",
            "\n",
            "\n",
            "For max_depth=18\n",
            "Accuracy =  {0.7538099621560806}\n",
            "\n",
            "\n"
          ],
          "name": "stdout"
        }
      ]
    },
    {
      "cell_type": "code",
      "metadata": {
        "colab": {
          "base_uri": "https://localhost:8080/",
          "height": 283
        },
        "id": "w_Lc-j4sGMVY",
        "outputId": "9ba45f3f-cef7-43fb-96ad-6866ac3cde14"
      },
      "source": [
        "plott(train_accuracy,valid_accuracy,max_depth,'max_depth')"
      ],
      "execution_count": 164,
      "outputs": [
        {
          "output_type": "display_data",
          "data": {
            "image/png": "[encoded data removed]",
            "text/plain": [
              "<Figure size 432x288 with 1 Axes>"
            ]
          },
          "metadata": {
            "needs_background": "light"
          }
        }
      ]
    },
    {
      "cell_type": "markdown",
      "metadata": {
        "id": "4wTHnoziQefH"
      },
      "source": [
        "max_depth of 8 for xgb seeems okay, lets tume learning rate now."
      ]
    },
    {
      "cell_type": "code",
      "metadata": {
        "colab": {
          "base_uri": "https://localhost:8080/"
        },
        "id": "VG7zRnP6Swkb",
        "outputId": "c410877a-2999-47ca-cb45-c23a4d1e5b5b"
      },
      "source": [
        "learning_rate=[0.05,0.01,0.1,0.15]\n",
        "tr=[]\n",
        "tes=[]\n",
        "for lr in learning_rate:\n",
        "  print('For learning_rate ={}'.format(lr))\n",
        "  _,a,b=run_labl(cv_data,0,XGBClassifier(max_depth=8,learning_rate=lr,n_estimators=200) )\n",
        "  tr.append(a)\n",
        "  tes.append(b)\n",
        "  print(\"\\n\")"
      ],
      "execution_count": 165,
      "outputs": [
        {
          "output_type": "stream",
          "text": [
            "For learning_rate =0.05\n",
            "Accuracy =  {0.7527871535235757}\n",
            "\n",
            "\n",
            "For learning_rate =0.01\n",
            "Accuracy =  {0.7301830827452184}\n",
            "\n",
            "\n",
            "For learning_rate =0.1\n",
            "Accuracy =  {0.7567761071903447}\n",
            "\n",
            "\n",
            "For learning_rate =0.15\n",
            "Accuracy =  {0.7599468139511097}\n",
            "\n",
            "\n"
          ],
          "name": "stdout"
        }
      ]
    },
    {
      "cell_type": "code",
      "metadata": {
        "colab": {
          "base_uri": "https://localhost:8080/",
          "height": 280
        },
        "id": "1DqdGy8QSwnI",
        "outputId": "0a8f3ee5-47a8-40b7-8b3e-7d44094525b7"
      },
      "source": [
        "plott(tr,tes,learning_rate,'learning_rate')"
      ],
      "execution_count": 166,
      "outputs": [
        {
          "output_type": "display_data",
          "data": {
            "image/png": "[encoded data removed]",
            "text/plain": [
              "<Figure size 432x288 with 1 Axes>"
            ]
          },
          "metadata": {
            "needs_background": "light"
          }
        }
      ]
    },
    {
      "cell_type": "markdown",
      "metadata": {
        "id": "wcpRTzyvQqGe"
      },
      "source": [
        "learning rate of 0.1 seems best among the choices. lets check estimators now."
      ]
    },
    {
      "cell_type": "code",
      "metadata": {
        "colab": {
          "base_uri": "https://localhost:8080/"
        },
        "id": "CZmRCBsJSwpg",
        "outputId": "75786b12-e703-45c7-9dab-5d135c0840d1"
      },
      "source": [
        "estimators=[50,100,200,300,400,500]\n",
        "trainn=[]\n",
        "testt=[]\n",
        "for est in estimators:\n",
        "  print('For estimators={}'.format(est))\n",
        "  _,a,b=run_labl(cv_data,0,XGBClassifier(max_depth=8,learning_rate=0.1,n_estimators=est) )\n",
        "  trainn.append(a)\n",
        "  testt.append(b)\n",
        "  "
      ],
      "execution_count": 167,
      "outputs": [
        {
          "output_type": "stream",
          "text": [
            "For estimators=50\n",
            "Accuracy =  {0.7479799529508029}\n",
            "For estimators=100\n",
            "Accuracy =  {0.7534008387030786}\n",
            "For estimators=200\n",
            "Accuracy =  {0.7553441751048379}\n",
            "For estimators=300\n",
            "Accuracy =  {0.7579011966861}\n",
            "For estimators=400\n",
            "Accuracy =  {0.7626061163956224}\n",
            "For estimators=500\n",
            "Accuracy =  {0.7632198015751253}\n"
          ],
          "name": "stdout"
        }
      ]
    },
    {
      "cell_type": "code",
      "metadata": {
        "colab": {
          "base_uri": "https://localhost:8080/",
          "height": 280
        },
        "id": "zzcXo6lRSwsu",
        "outputId": "16b5786b-39e6-4d59-b4f0-85318966701c"
      },
      "source": [
        "plott(trainn,testt,estimators,'n_estimators')"
      ],
      "execution_count": 168,
      "outputs": [
        {
          "output_type": "display_data",
          "data": {
            "image/png": "[encoded data removed]",
            "text/plain": [
              "<Figure size 432x288 with 1 Axes>"
            ]
          },
          "metadata": {
            "needs_background": "light"
          }
        }
      ]
    },
    {
      "cell_type": "markdown",
      "metadata": {
        "id": "ZufUNQfTQ0gp"
      },
      "source": [
        "I think 400 estimators seems fine for xgb, although it does not really matter because i can use early_stopping_rounds for this to stop when validation accuracy doesnot improve"
      ]
    },
    {
      "cell_type": "code",
      "metadata": {
        "colab": {
          "base_uri": "https://localhost:8080/"
        },
        "id": "tMvFFxWDT7Ow",
        "outputId": "6a0b3ed0-a29f-412e-a407-b80b61882574"
      },
      "source": [
        "finalmodel2,train_acc,valid_acc=run_labl(cv_data,0,XGBClassifier(max_depth=8,learning_rate=0.1,n_estimators=400)  )\n",
        "print('train Accuracy = ',train_acc)\n",
        "print('valid Accuracy = ',valid_acc)"
      ],
      "execution_count": 169,
      "outputs": [
        {
          "output_type": "stream",
          "text": [
            "Accuracy =  {0.7583103201391019}\n",
            "train Accuracy =  0.8524741081703107\n",
            "valid Accuracy =  0.7583103201391019\n"
          ],
          "name": "stdout"
        }
      ]
    },
    {
      "cell_type": "code",
      "metadata": {
        "colab": {
          "base_uri": "https://localhost:8080/"
        },
        "id": "4yfND0z_UQUl",
        "outputId": "66b56eef-03ef-4350-b104-b000eebf02fa"
      },
      "source": [
        "print(finalmodel2)"
      ],
      "execution_count": 170,
      "outputs": [
        {
          "output_type": "stream",
          "text": [
            "XGBClassifier(base_score=0.5, booster='gbtree', colsample_bylevel=1,\n",
            "              colsample_bynode=1, colsample_bytree=1, gamma=0,\n",
            "              learning_rate=0.1, max_delta_step=0, max_depth=8,\n",
            "              min_child_weight=1, missing=None, n_estimators=400, n_jobs=1,\n",
            "              nthread=None, objective='binary:logistic', random_state=0,\n",
            "              reg_alpha=0, reg_lambda=1, scale_pos_weight=1, seed=None,\n",
            "              silent=None, subsample=1, verbosity=1)\n"
          ],
          "name": "stdout"
        }
      ]
    },
    {
      "cell_type": "code",
      "metadata": {
        "colab": {
          "base_uri": "https://localhost:8080/"
        },
        "id": "RYdF8jSFUglR",
        "outputId": "35ff4594-0504-4ca8-bacd-7684ec703795"
      },
      "source": [
        "for i in range(5):\n",
        "  finalmodel2,train_acc,valid_acc=run_labl(cv_data,i,XGBClassifier(max_depth=8,learning_rate=0.1,n_estimators=400)  )"
      ],
      "execution_count": 172,
      "outputs": [
        {
          "output_type": "stream",
          "text": [
            "Fold 0\n",
            "Accuracy =  {0.7593331287716069}\n",
            "Fold 1\n",
            "Accuracy =  {0.7631175207118748}\n",
            "Fold 2\n",
            "Accuracy =  {0.7586947626841244}\n",
            "Fold 3\n",
            "Accuracy =  {0.7504091653027823}\n",
            "Fold 4\n",
            "Accuracy =  {0.7585924713584288}\n"
          ],
          "name": "stdout"
        }
      ]
    },
    {
      "cell_type": "markdown",
      "metadata": {
        "id": "Ux4rjh4WVNRn"
      },
      "source": [
        "So, We have final accuracy of around 76%"
      ]
    },
    {
      "cell_type": "code",
      "metadata": {
        "colab": {
          "base_uri": "https://localhost:8080/"
        },
        "id": "pEJ5BCHhVDaA",
        "outputId": "cd879405-7dff-407b-fc34-c4ba80ad54f0"
      },
      "source": [
        "finalmodel3,train_acc,valid_acc=run_onehot(cv_data,4,XGBClassifier(max_depth=8,learning_rate=0.1,n_estimators=400)  )"
      ],
      "execution_count": 173,
      "outputs": [
        {
          "output_type": "stream",
          "text": [
            "Fold = 4, Accuracy = 0.7406914893617021\n"
          ],
          "name": "stdout"
        }
      ]
    },
    {
      "cell_type": "code",
      "metadata": {
        "id": "rfdF3QFwdFVU"
      },
      "source": [
        ""
      ],
      "execution_count": null,
      "outputs": []
    },
    {
      "cell_type": "code",
      "metadata": {
        "id": "GOR1z-hUbBpV"
      },
      "source": [
        "labels=[]\n",
        "def fulldata_model(df):\n",
        "  features=[f for f in df.columns if f not in ('final_match','kfold')]\n",
        "  for col in features:\n",
        "    df.loc[:, col] = df[col].astype(str)\n",
        "  for col in features:\n",
        "    lbl = preprocessing.LabelEncoder()\n",
        "    # fit label encoder on all data\n",
        "    lbl.fit(df[col])\n",
        "    # transform all the data\n",
        "    df.loc[:, col] = lbl.transform(df[col])\n",
        "    labels.append(lbl)\n",
        "\n",
        "  X=df[features].values\n",
        "  y=df.final_match.values\n",
        "  model = XGBClassifier(max_depth=8,learning_rate=0.1,n_estimators=400) \n",
        "  model.fit(X,y)\n",
        "  pred=model.predict(X)\n",
        "  train_acc=metrics.accuracy_score(y,pred)\n",
        "  # print acc\n",
        "  print('accuracy = ',train_acc)\n",
        "  return model,labels"
      ],
      "execution_count": 262,
      "outputs": []
    },
    {
      "cell_type": "code",
      "metadata": {
        "id": "_7Q7pwwWVw5A"
      },
      "source": [
        "dff=data1.copy()\n",
        "dff=dff.sample(frac=1).reset_index(drop=True)\n"
      ],
      "execution_count": 263,
      "outputs": []
    },
    {
      "cell_type": "code",
      "metadata": {
        "colab": {
          "base_uri": "https://localhost:8080/"
        },
        "id": "JGn7GEBEndSN",
        "outputId": "99f86771-f613-4974-f689-50d46b27ac9b"
      },
      "source": [
        "model,labels=fulldata_model(dff)"
      ],
      "execution_count": 264,
      "outputs": [
        {
          "output_type": "stream",
          "text": [
            "accuracy =  0.841598134282558\n"
          ],
          "name": "stdout"
        }
      ]
    },
    {
      "cell_type": "markdown",
      "metadata": {
        "id": "vC0VOsBrVxee"
      },
      "source": [
        "# Test new data of same format"
      ]
    },
    {
      "cell_type": "markdown",
      "metadata": {
        "id": "bjauVjPYG4jx"
      },
      "source": [
        "First step is to store location of the csv file in below url, and then execute the cells below to get predictions on this data. "
      ]
    },
    {
      "cell_type": "markdown",
      "metadata": {
        "id": "Tvw5IATgRIiA"
      },
      "source": [
        "Remember we would require model, labels and dictionary_new from the train sets to produce results in Test set."
      ]
    },
    {
      "cell_type": "code",
      "metadata": {
        "id": "sSD_3c_mXuYb"
      },
      "source": [
        "def rare_insert2(data,col,dic):\n",
        "  for i,row in data.iterrows():\n",
        "    for ind,word in enumerate(row[col]):\n",
        "      if word not in dic:\n",
        "        data.loc[i,col][ind]='RARE'\n",
        "  return data"
      ],
      "execution_count": 279,
      "outputs": []
    },
    {
      "cell_type": "code",
      "metadata": {
        "id": "XWtdNXLmV2TF"
      },
      "source": [
        "#insert the url of the test file\n",
        "url=''"
      ],
      "execution_count": 283,
      "outputs": []
    },
    {
      "cell_type": "code",
      "metadata": {
        "id": "Qwtq2Vl8rEYI"
      },
      "source": [
        "def test_model(url):\n",
        "  test_data=pd.read_csv(url)\n",
        "  test_data=process(test_data)\n",
        "  test_data=test_data.loc[0:200,:]\n",
        "  features=[f for f in test_data.columns if f != 'final_match']\n",
        "  for i in range(len(features)):\n",
        "    test_data=rare_insert2(test_data,features[i],dictionary_new[i])\n",
        "    if i==0 or i==3:\n",
        "      test_data=insert_singlevalue(test_data,features[i],dictionary_new[i])\n",
        "    else:\n",
        "      test_data=insert_singlevalue_withoutrare(test_data,features[i],dictionary_new[i])\n",
        "  \n",
        "  for i in range(len(features)):\n",
        "    test_data.loc[:, features[i]]=test_data[features[i]].astype(str)\n",
        "    test_data.loc[:, features[i]] = labels[i].transform(test_data[features[i]])\n",
        "\n",
        "  test_X=test_data[features].values\n",
        "  test_y=test_data.final_match.values\n",
        "\n",
        "  predictions=model.predict(test_X)\n",
        "  return predictions"
      ],
      "execution_count": 284,
      "outputs": []
    },
    {
      "cell_type": "code",
      "metadata": {
        "id": "9A1yG62Hr6nL"
      },
      "source": [
        "predictions=test_model(url)"
      ],
      "execution_count": 285,
      "outputs": []
    },
    {
      "cell_type": "code",
      "metadata": {
        "id": "cVIWut9Dq55M"
      },
      "source": [
        ""
      ],
      "execution_count": null,
      "outputs": []
    }
  ]
}