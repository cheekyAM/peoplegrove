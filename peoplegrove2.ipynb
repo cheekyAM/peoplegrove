{
  "nbformat": 4,
  "nbformat_minor": 0,
  "metadata": {
    "colab": {
      "name": "peoplegrove2.ipynb",
      "provenance": [],
      "collapsed_sections": []
    },
    "kernelspec": {
      "name": "python3",
      "display_name": "Python 3"
    },
    "language_info": {
      "name": "python"
    }
  },
  "cells": [
    {
      "cell_type": "markdown",
      "metadata": {
        "id": "JmkD4uTwRmCC"
      },
      "source": [
        "**This file contains experiments same as peoplegrove1, with only change of introducing rare categories in dataset.**"
      ]
    },
    {
      "cell_type": "code",
      "metadata": {
        "colab": {
          "base_uri": "https://localhost:8080/"
        },
        "id": "lGOuiRQAAFlO",
        "outputId": "51643aee-8b85-4e8d-f26f-5861736d7dab"
      },
      "source": [
        "from google.colab import drive\n",
        "drive.mount('/content/drive')"
      ],
      "execution_count": 1,
      "outputs": [
        {
          "output_type": "stream",
          "text": [
            "Mounted at /content/drive\n"
          ],
          "name": "stdout"
        }
      ]
    },
    {
      "cell_type": "code",
      "metadata": {
        "colab": {
          "base_uri": "https://localhost:8080/"
        },
        "id": "QHilQz15AbVg",
        "outputId": "73a71d76-475f-4018-8056-bbbf99bacbc6"
      },
      "source": [
        "%cd /content/drive/MyDrive"
      ],
      "execution_count": 2,
      "outputs": [
        {
          "output_type": "stream",
          "text": [
            "/content/drive/MyDrive\n"
          ],
          "name": "stdout"
        }
      ]
    },
    {
      "cell_type": "code",
      "metadata": {
        "id": "EYCG07rxAbeo"
      },
      "source": [
        "import numpy as np # linear algebra\n",
        "import pandas as pd # data processing, CSV file I/O (e.g. pd.read_csv)\n",
        "import matplotlib.pyplot as plt # data visualization\n",
        "import seaborn as sns # statistical data visualization\n",
        "from sklearn import model_selection\n",
        "%matplotlib inline"
      ],
      "execution_count": 3,
      "outputs": []
    },
    {
      "cell_type": "code",
      "metadata": {
        "id": "W-dZR0MVAbhy"
      },
      "source": [
        "data=pd.read_csv('pg_recommendation_data.csv')"
      ],
      "execution_count": null,
      "outputs": []
    },
    {
      "cell_type": "code",
      "metadata": {
        "colab": {
          "base_uri": "https://localhost:8080/",
          "height": 289
        },
        "id": "JEE67mhFAblF",
        "outputId": "69408a62-41ce-4661-d4df-7fab877e1cb2"
      },
      "source": [
        "data.head()"
      ],
      "execution_count": null,
      "outputs": [
        {
          "output_type": "execute_result",
          "data": {
            "text/html": [
              "<div>\n",
              "<style scoped>\n",
              "    .dataframe tbody tr th:only-of-type {\n",
              "        vertical-align: middle;\n",
              "    }\n",
              "\n",
              "    .dataframe tbody tr th {\n",
              "        vertical-align: top;\n",
              "    }\n",
              "\n",
              "    .dataframe thead th {\n",
              "        text-align: right;\n",
              "    }\n",
              "</style>\n",
              "<table border=\"1\" class=\"dataframe\">\n",
              "  <thead>\n",
              "    <tr style=\"text-align: right;\">\n",
              "      <th></th>\n",
              "      <th>mentee_major</th>\n",
              "      <th>mentee_help_topics</th>\n",
              "      <th>mentee_experitse</th>\n",
              "      <th>mentor_major</th>\n",
              "      <th>mentor_help_topics</th>\n",
              "      <th>mentor_experitse</th>\n",
              "      <th>final_match</th>\n",
              "    </tr>\n",
              "  </thead>\n",
              "  <tbody>\n",
              "    <tr>\n",
              "      <th>0</th>\n",
              "      <td>['Accounting and Financial Management']</td>\n",
              "      <td>['Life Skills', 'Cover Letter Review', 'Career...</td>\n",
              "      <td>['Accounting']</td>\n",
              "      <td>['Accounting and Financial Management']</td>\n",
              "      <td>['Parenting vs. Career', 'Career / Industry Tr...</td>\n",
              "      <td>['Finance', 'Accounting']</td>\n",
              "      <td>1</td>\n",
              "    </tr>\n",
              "    <tr>\n",
              "      <th>1</th>\n",
              "      <td>['Information Systems Management']</td>\n",
              "      <td>['Working Overseas', 'Life Skills', 'Startups'...</td>\n",
              "      <td>['Food &amp; Restaurants', 'Law', 'Computer - IT S...</td>\n",
              "      <td>['Information Systems Management', 'Project Ma...</td>\n",
              "      <td>['Leadership Skills', 'Working Overseas', 'Per...</td>\n",
              "      <td>['Trade (Wholesale)', 'Government / Public Adm...</td>\n",
              "      <td>0</td>\n",
              "    </tr>\n",
              "    <tr>\n",
              "      <th>2</th>\n",
              "      <td>['Cybersecurity Technology', 'Computer Network...</td>\n",
              "      <td>['Leadership Skills', 'Personal and Profession...</td>\n",
              "      <td>['Military &amp; Defense', 'Technology', 'Computer...</td>\n",
              "      <td>['Cybersecurity Technology', 'Computer Network...</td>\n",
              "      <td>['Management', 'Resume / CV Review', 'Career /...</td>\n",
              "      <td>['Government / Public Admin', 'Computer - IT S...</td>\n",
              "      <td>1</td>\n",
              "    </tr>\n",
              "    <tr>\n",
              "      <th>3</th>\n",
              "      <td>['Masters of Human Resources Management']</td>\n",
              "      <td>[]</td>\n",
              "      <td>['Human Resources']</td>\n",
              "      <td>['Business Administration']</td>\n",
              "      <td>['Leadership Skills', 'Life Skills', 'Intervie...</td>\n",
              "      <td>['Human Resources', 'Advertising / Marketing',...</td>\n",
              "      <td>0</td>\n",
              "    </tr>\n",
              "    <tr>\n",
              "      <th>4</th>\n",
              "      <td>['Sociology']</td>\n",
              "      <td>['Leadership Skills', 'Life Skills', 'Manageme...</td>\n",
              "      <td>['Healthcare']</td>\n",
              "      <td>['Business Administration']</td>\n",
              "      <td>['Leadership Skills', 'Working Overseas', 'Per...</td>\n",
              "      <td>['Human Resources', 'Computer - Hardware', 'Fi...</td>\n",
              "      <td>0</td>\n",
              "    </tr>\n",
              "  </tbody>\n",
              "</table>\n",
              "</div>"
            ],
            "text/plain": [
              "                                        mentee_major  ... final_match\n",
              "0            ['Accounting and Financial Management']  ...           1\n",
              "1                 ['Information Systems Management']  ...           0\n",
              "2  ['Cybersecurity Technology', 'Computer Network...  ...           1\n",
              "3          ['Masters of Human Resources Management']  ...           0\n",
              "4                                      ['Sociology']  ...           0\n",
              "\n",
              "[5 rows x 7 columns]"
            ]
          },
          "metadata": {},
          "execution_count": 31
        }
      ]
    },
    {
      "cell_type": "code",
      "metadata": {
        "colab": {
          "base_uri": "https://localhost:8080/"
        },
        "id": "avh-kpXUAbn9",
        "outputId": "742ffd56-5cdc-42c0-8d10-451b874faabc"
      },
      "source": [
        "columns=data.columns\n",
        "data.shape"
      ],
      "execution_count": null,
      "outputs": [
        {
          "output_type": "execute_result",
          "data": {
            "text/plain": [
              "(48882, 7)"
            ]
          },
          "metadata": {},
          "execution_count": 32
        }
      ]
    },
    {
      "cell_type": "code",
      "metadata": {
        "id": "-69CLdJwAbqx"
      },
      "source": [
        "def process(data):\n",
        "  cols=data.columns\n",
        "  for i in range(len(data)):\n",
        "    for col in cols:\n",
        "      if data.loc[i,col] == '[]':\n",
        "        data.loc[i,col]='[None]'\n",
        "  for col in cols:\n",
        "    if col != 'final_match':\n",
        "      data[col]=data[col].apply(eval)\n",
        "  return data\n"
      ],
      "execution_count": null,
      "outputs": []
    },
    {
      "cell_type": "code",
      "metadata": {
        "id": "XCUJww1LAbto"
      },
      "source": [
        "data=process(data)"
      ],
      "execution_count": null,
      "outputs": []
    },
    {
      "cell_type": "code",
      "metadata": {
        "id": "NVxB6xWzAbzY"
      },
      "source": [
        "def count_dict(data,col):\n",
        "  cat_dict={}\n",
        "  for i,row in data.iterrows():\n",
        "    for word in row[col]:\n",
        "      if word not in cat_dict:\n",
        "        cat_dict[word]=1\n",
        "      else:\n",
        "        cat_dict[word] +=1\n",
        "  return cat_dict"
      ],
      "execution_count": null,
      "outputs": []
    },
    {
      "cell_type": "code",
      "metadata": {
        "id": "zif8UctYAb2h"
      },
      "source": [
        "def rare_insert(data,col,dic):\n",
        "  for i,row in data.iterrows():\n",
        "    for ind,word in enumerate(row[col]):\n",
        "      if dic[word] < 5:\n",
        "        data.loc[i,col][ind]='RARE'\n",
        "  return data"
      ],
      "execution_count": null,
      "outputs": []
    },
    {
      "cell_type": "code",
      "metadata": {
        "id": "W8_d9B4gEvk-"
      },
      "source": [
        "def impute_values(data,col,final_dict):\n",
        "  for j,row in data.iterrows():\n",
        "    for i in range(len(row[col])):\n",
        "      if row[col][i] in final_dict:\n",
        "        row[col][i]=int(final_dict[row[col][i]])\n",
        "      else:\n",
        "        row[col][i]=0\n",
        "    \n",
        "    m=max(row[col])\n",
        "    data.loc[j,col]=m\n",
        "  data[col]=data[col].astype('int')\n",
        "  return data\n"
      ],
      "execution_count": null,
      "outputs": []
    },
    {
      "cell_type": "markdown",
      "metadata": {
        "id": "03E4IGdZLq62"
      },
      "source": [
        "The below  cell will need 8-9 minutes of runtime on colab with cpu"
      ]
    },
    {
      "cell_type": "code",
      "metadata": {
        "id": "M5Xny0ybHyWI"
      },
      "source": [
        "dictionary=[]\n",
        "for col in columns:\n",
        "  if col != 'final_match':\n",
        "    cat_d=count_dict(data, col)\n",
        "    data=rare_insert(data,col,cat_d)\n",
        "    final_cat=count_dict(data,col)\n",
        "    dictionary.append(final_cat)\n",
        "    data=impute_values(data,col,final_cat)"
      ],
      "execution_count": null,
      "outputs": []
    },
    {
      "cell_type": "code",
      "metadata": {
        "colab": {
          "base_uri": "https://localhost:8080/",
          "height": 204
        },
        "id": "twHR8apsJra-",
        "outputId": "e3e8aca4-9396-49b8-a18c-eeb985bd41d5"
      },
      "source": [
        "data.head()"
      ],
      "execution_count": null,
      "outputs": [
        {
          "output_type": "execute_result",
          "data": {
            "text/html": [
              "<div>\n",
              "<style scoped>\n",
              "    .dataframe tbody tr th:only-of-type {\n",
              "        vertical-align: middle;\n",
              "    }\n",
              "\n",
              "    .dataframe tbody tr th {\n",
              "        vertical-align: top;\n",
              "    }\n",
              "\n",
              "    .dataframe thead th {\n",
              "        text-align: right;\n",
              "    }\n",
              "</style>\n",
              "<table border=\"1\" class=\"dataframe\">\n",
              "  <thead>\n",
              "    <tr style=\"text-align: right;\">\n",
              "      <th></th>\n",
              "      <th>mentee_major</th>\n",
              "      <th>mentee_help_topics</th>\n",
              "      <th>mentee_experitse</th>\n",
              "      <th>mentor_major</th>\n",
              "      <th>mentor_help_topics</th>\n",
              "      <th>mentor_experitse</th>\n",
              "      <th>final_match</th>\n",
              "    </tr>\n",
              "  </thead>\n",
              "  <tbody>\n",
              "    <tr>\n",
              "      <th>0</th>\n",
              "      <td>1232</td>\n",
              "      <td>14281</td>\n",
              "      <td>4139</td>\n",
              "      <td>945</td>\n",
              "      <td>22218</td>\n",
              "      <td>11409</td>\n",
              "      <td>1</td>\n",
              "    </tr>\n",
              "    <tr>\n",
              "      <th>1</th>\n",
              "      <td>1156</td>\n",
              "      <td>7908</td>\n",
              "      <td>12085</td>\n",
              "      <td>2641</td>\n",
              "      <td>23570</td>\n",
              "      <td>18223</td>\n",
              "      <td>0</td>\n",
              "    </tr>\n",
              "    <tr>\n",
              "      <th>2</th>\n",
              "      <td>4403</td>\n",
              "      <td>8472</td>\n",
              "      <td>12085</td>\n",
              "      <td>4296</td>\n",
              "      <td>22218</td>\n",
              "      <td>18223</td>\n",
              "      <td>1</td>\n",
              "    </tr>\n",
              "    <tr>\n",
              "      <th>3</th>\n",
              "      <td>107</td>\n",
              "      <td>16082</td>\n",
              "      <td>7782</td>\n",
              "      <td>6263</td>\n",
              "      <td>23570</td>\n",
              "      <td>14117</td>\n",
              "      <td>0</td>\n",
              "    </tr>\n",
              "    <tr>\n",
              "      <th>4</th>\n",
              "      <td>1109</td>\n",
              "      <td>14281</td>\n",
              "      <td>7295</td>\n",
              "      <td>6263</td>\n",
              "      <td>23570</td>\n",
              "      <td>18223</td>\n",
              "      <td>0</td>\n",
              "    </tr>\n",
              "  </tbody>\n",
              "</table>\n",
              "</div>"
            ],
            "text/plain": [
              "   mentee_major  mentee_help_topics  ...  mentor_experitse  final_match\n",
              "0          1232               14281  ...             11409            1\n",
              "1          1156                7908  ...             18223            0\n",
              "2          4403                8472  ...             18223            1\n",
              "3           107               16082  ...             14117            0\n",
              "4          1109               14281  ...             18223            0\n",
              "\n",
              "[5 rows x 7 columns]"
            ]
          },
          "metadata": {},
          "execution_count": 39
        }
      ]
    },
    {
      "cell_type": "code",
      "metadata": {
        "colab": {
          "base_uri": "https://localhost:8080/"
        },
        "id": "Sq-lHu3IGajM",
        "outputId": "c06512ae-f3b1-4514-967a-81dbb52ca778"
      },
      "source": [
        "data.info()"
      ],
      "execution_count": null,
      "outputs": [
        {
          "output_type": "stream",
          "text": [
            "<class 'pandas.core.frame.DataFrame'>\n",
            "RangeIndex: 48882 entries, 0 to 48881\n",
            "Data columns (total 7 columns):\n",
            " #   Column              Non-Null Count  Dtype\n",
            "---  ------              --------------  -----\n",
            " 0   mentee_major        48882 non-null  int64\n",
            " 1   mentee_help_topics  48882 non-null  int64\n",
            " 2   mentee_experitse    48882 non-null  int64\n",
            " 3   mentor_major        48882 non-null  int64\n",
            " 4   mentor_help_topics  48882 non-null  int64\n",
            " 5   mentor_experitse    48882 non-null  int64\n",
            " 6   final_match         48882 non-null  int64\n",
            "dtypes: int64(7)\n",
            "memory usage: 2.6 MB\n"
          ],
          "name": "stdout"
        }
      ]
    },
    {
      "cell_type": "code",
      "metadata": {
        "id": "wyLpS8tOJvVn"
      },
      "source": [
        "data.to_csv('tranformed_data.csv',index=False)"
      ],
      "execution_count": null,
      "outputs": []
    },
    {
      "cell_type": "code",
      "metadata": {
        "colab": {
          "base_uri": "https://localhost:8080/"
        },
        "id": "l83fGT59JwON",
        "outputId": "bd98fe26-818c-4869-8bd7-2be2d69f556c"
      },
      "source": [
        "for i in range(6):\n",
        "  print('feature {} will have now {} categories'.format(columns[i],len(dictionary[i])))"
      ],
      "execution_count": null,
      "outputs": [
        {
          "output_type": "stream",
          "text": [
            "feature mentee_major will have now 1070 categories\n",
            "feature mentee_help_topics will have now 26 categories\n",
            "feature mentee_experitse will have now 57 categories\n",
            "feature mentor_major will have now 1187 categories\n",
            "feature mentor_help_topics will have now 26 categories\n",
            "feature mentor_experitse will have now 57 categories\n"
          ],
          "name": "stdout"
        }
      ]
    },
    {
      "cell_type": "code",
      "metadata": {
        "colab": {
          "base_uri": "https://localhost:8080/"
        },
        "id": "M0sKggwDJwQs",
        "outputId": "e5aea618-343b-4113-a45d-55b13f4f82f7"
      },
      "source": [
        "dictionary[3]['RARE']"
      ],
      "execution_count": null,
      "outputs": [
        {
          "output_type": "execute_result",
          "data": {
            "text/plain": [
              "2835"
            ]
          },
          "metadata": {},
          "execution_count": 50
        }
      ]
    },
    {
      "cell_type": "code",
      "metadata": {
        "id": "dGNAhwFuJwTW"
      },
      "source": [
        "df=data.copy()"
      ],
      "execution_count": null,
      "outputs": []
    },
    {
      "cell_type": "code",
      "metadata": {
        "id": "kzjJG09JAcD0"
      },
      "source": [
        "df=df.sample(frac=1).reset_index(drop=True)"
      ],
      "execution_count": null,
      "outputs": []
    },
    {
      "cell_type": "code",
      "metadata": {
        "colab": {
          "base_uri": "https://localhost:8080/",
          "height": 266
        },
        "id": "3j9KsxI0NyTV",
        "outputId": "e2ac9733-29d0-4a21-8ec7-6df8cf96cf8f"
      },
      "source": [
        "df.corr()"
      ],
      "execution_count": null,
      "outputs": [
        {
          "output_type": "execute_result",
          "data": {
            "text/html": [
              "<div>\n",
              "<style scoped>\n",
              "    .dataframe tbody tr th:only-of-type {\n",
              "        vertical-align: middle;\n",
              "    }\n",
              "\n",
              "    .dataframe tbody tr th {\n",
              "        vertical-align: top;\n",
              "    }\n",
              "\n",
              "    .dataframe thead th {\n",
              "        text-align: right;\n",
              "    }\n",
              "</style>\n",
              "<table border=\"1\" class=\"dataframe\">\n",
              "  <thead>\n",
              "    <tr style=\"text-align: right;\">\n",
              "      <th></th>\n",
              "      <th>mentee_major</th>\n",
              "      <th>mentee_help_topics</th>\n",
              "      <th>mentee_experitse</th>\n",
              "      <th>mentor_major</th>\n",
              "      <th>mentor_help_topics</th>\n",
              "      <th>mentor_experitse</th>\n",
              "      <th>final_match</th>\n",
              "    </tr>\n",
              "  </thead>\n",
              "  <tbody>\n",
              "    <tr>\n",
              "      <th>mentee_major</th>\n",
              "      <td>1.000000</td>\n",
              "      <td>-0.067084</td>\n",
              "      <td>0.187127</td>\n",
              "      <td>0.206789</td>\n",
              "      <td>0.027194</td>\n",
              "      <td>0.101511</td>\n",
              "      <td>0.099726</td>\n",
              "    </tr>\n",
              "    <tr>\n",
              "      <th>mentee_help_topics</th>\n",
              "      <td>-0.067084</td>\n",
              "      <td>1.000000</td>\n",
              "      <td>-0.018860</td>\n",
              "      <td>-0.014690</td>\n",
              "      <td>-0.134507</td>\n",
              "      <td>-0.129020</td>\n",
              "      <td>-0.229415</td>\n",
              "    </tr>\n",
              "    <tr>\n",
              "      <th>mentee_experitse</th>\n",
              "      <td>0.187127</td>\n",
              "      <td>-0.018860</td>\n",
              "      <td>1.000000</td>\n",
              "      <td>0.129121</td>\n",
              "      <td>0.102770</td>\n",
              "      <td>0.265316</td>\n",
              "      <td>0.032055</td>\n",
              "    </tr>\n",
              "    <tr>\n",
              "      <th>mentor_major</th>\n",
              "      <td>0.206789</td>\n",
              "      <td>-0.014690</td>\n",
              "      <td>0.129121</td>\n",
              "      <td>1.000000</td>\n",
              "      <td>0.042621</td>\n",
              "      <td>0.096416</td>\n",
              "      <td>-0.044676</td>\n",
              "    </tr>\n",
              "    <tr>\n",
              "      <th>mentor_help_topics</th>\n",
              "      <td>0.027194</td>\n",
              "      <td>-0.134507</td>\n",
              "      <td>0.102770</td>\n",
              "      <td>0.042621</td>\n",
              "      <td>1.000000</td>\n",
              "      <td>0.468873</td>\n",
              "      <td>-0.047357</td>\n",
              "    </tr>\n",
              "    <tr>\n",
              "      <th>mentor_experitse</th>\n",
              "      <td>0.101511</td>\n",
              "      <td>-0.129020</td>\n",
              "      <td>0.265316</td>\n",
              "      <td>0.096416</td>\n",
              "      <td>0.468873</td>\n",
              "      <td>1.000000</td>\n",
              "      <td>-0.033415</td>\n",
              "    </tr>\n",
              "    <tr>\n",
              "      <th>final_match</th>\n",
              "      <td>0.099726</td>\n",
              "      <td>-0.229415</td>\n",
              "      <td>0.032055</td>\n",
              "      <td>-0.044676</td>\n",
              "      <td>-0.047357</td>\n",
              "      <td>-0.033415</td>\n",
              "      <td>1.000000</td>\n",
              "    </tr>\n",
              "  </tbody>\n",
              "</table>\n",
              "</div>"
            ],
            "text/plain": [
              "                    mentee_major  ...  final_match\n",
              "mentee_major            1.000000  ...     0.099726\n",
              "mentee_help_topics     -0.067084  ...    -0.229415\n",
              "mentee_experitse        0.187127  ...     0.032055\n",
              "mentor_major            0.206789  ...    -0.044676\n",
              "mentor_help_topics      0.027194  ...    -0.047357\n",
              "mentor_experitse        0.101511  ...    -0.033415\n",
              "final_match             0.099726  ...     1.000000\n",
              "\n",
              "[7 rows x 7 columns]"
            ]
          },
          "metadata": {},
          "execution_count": 53
        }
      ]
    },
    {
      "cell_type": "code",
      "metadata": {
        "id": "NB0I2mqYN1mP"
      },
      "source": [
        "df1=df.copy()"
      ],
      "execution_count": null,
      "outputs": []
    },
    {
      "cell_type": "code",
      "metadata": {
        "id": "H7e3uyQJN5aw"
      },
      "source": [
        "from sklearn.feature_selection import VarianceThreshold\n",
        "var_thresh = VarianceThreshold(threshold=0.1)\n",
        "transformed_data = var_thresh.fit_transform(df1)"
      ],
      "execution_count": null,
      "outputs": []
    },
    {
      "cell_type": "code",
      "metadata": {
        "colab": {
          "base_uri": "https://localhost:8080/"
        },
        "id": "zA8NdfIsN7PE",
        "outputId": "dc012af1-57ac-43fb-8e6f-0a71e703f3a9"
      },
      "source": [
        "transformed_data[0]"
      ],
      "execution_count": null,
      "outputs": [
        {
          "output_type": "execute_result",
          "data": {
            "text/plain": [
              "array([ 1156,  8472, 12085,  2641, 23570, 18223,     0])"
            ]
          },
          "metadata": {},
          "execution_count": 56
        }
      ]
    },
    {
      "cell_type": "code",
      "metadata": {
        "id": "Ii0053VCN9Tu"
      },
      "source": [
        "from sklearn import model_selection,preprocessing,metrics\n",
        "from sklearn import ensemble\n",
        "from xgboost import XGBClassifier\n",
        "from sklearn import linear_model"
      ],
      "execution_count": null,
      "outputs": []
    },
    {
      "cell_type": "code",
      "metadata": {
        "id": "ntPSg3BUOHlt"
      },
      "source": [
        "y=df['final_match']\n",
        "X=df.drop(['final_match'],axis=1)"
      ],
      "execution_count": null,
      "outputs": []
    },
    {
      "cell_type": "code",
      "metadata": {
        "colab": {
          "base_uri": "https://localhost:8080/"
        },
        "id": "GD6zzqCyOKsf",
        "outputId": "8f1c9bd8-1503-45dc-8da2-4289581f2d61"
      },
      "source": [
        "print(X.shape,\"\\n\",y.shape)"
      ],
      "execution_count": null,
      "outputs": [
        {
          "output_type": "stream",
          "text": [
            "(48882, 6) \n",
            " (48882,)\n"
          ],
          "name": "stdout"
        }
      ]
    },
    {
      "cell_type": "code",
      "metadata": {
        "id": "XYJThMSGOMl8"
      },
      "source": [
        "X_train,X_test,y_train,y_test=model_selection.train_test_split(X,y,train_size=0.8,test_size=0.2,random_state=0)"
      ],
      "execution_count": null,
      "outputs": []
    },
    {
      "cell_type": "code",
      "metadata": {
        "colab": {
          "base_uri": "https://localhost:8080/"
        },
        "id": "HmVGv8UNOPiv",
        "outputId": "61d04891-239a-4d65-e245-1ca2852e74e8"
      },
      "source": [
        "print(X_train.shape,X_test.shape,y_train.shape,y_test.shape)"
      ],
      "execution_count": null,
      "outputs": [
        {
          "output_type": "stream",
          "text": [
            "(39105, 6) (9777, 6) (39105,) (9777,)\n"
          ],
          "name": "stdout"
        }
      ]
    },
    {
      "cell_type": "code",
      "metadata": {
        "id": "NUlS1bJtOSCf"
      },
      "source": [
        "def log_reg():\n",
        "  model_lr = linear_model.LogisticRegression()\n",
        "  model_lr.fit(X_train.values,y_train.values)\n",
        "  pred_tr=model_lr.predict(X_train)\n",
        "  pred=model_lr.predict(X_test)\n",
        "  print(\"accuracy\",metrics.accuracy_score(y_test,pred))\n",
        "  print(\"train accuracy\",metrics.accuracy_score(y_train,pred_tr))"
      ],
      "execution_count": null,
      "outputs": []
    },
    {
      "cell_type": "code",
      "metadata": {
        "colab": {
          "base_uri": "https://localhost:8080/"
        },
        "id": "lmENYqKYOVQx",
        "outputId": "dae2d585-0e32-45b5-c805-57f9c502b3b8"
      },
      "source": [
        "log_reg()"
      ],
      "execution_count": null,
      "outputs": [
        {
          "output_type": "stream",
          "text": [
            "accuracy 0.5832054822542703\n",
            "train accuracy 0.58120444955888\n"
          ],
          "name": "stdout"
        }
      ]
    },
    {
      "cell_type": "code",
      "metadata": {
        "colab": {
          "base_uri": "https://localhost:8080/"
        },
        "id": "Yvw9t3HOOYC0",
        "outputId": "b9e36430-94eb-4cf6-c8bd-47062aa5d141"
      },
      "source": [
        "xt=X_train[['mentee_major','mentor_major']]\n",
        "xtt=X_test[['mentee_major','mentor_major']]\n",
        "model_lr1 = linear_model.LogisticRegression()\n",
        "model_lr1.fit(xt,y_train.values)\n",
        "pred_tr=model_lr1.predict(xt)\n",
        "pred=model_lr1.predict(xtt)\n",
        "print(\"accuracy\",metrics.accuracy_score(y_test,pred))\n",
        "print(\"train accuracy\",metrics.accuracy_score(y_train,pred_tr))"
      ],
      "execution_count": null,
      "outputs": [
        {
          "output_type": "stream",
          "text": [
            "accuracy 0.5499642016978623\n",
            "train accuracy 0.5488812172356476\n"
          ],
          "name": "stdout"
        }
      ]
    },
    {
      "cell_type": "code",
      "metadata": {
        "id": "7ZcTYXwyOfjD"
      },
      "source": [
        "def random_forest(n_estimators,depth):\n",
        "  model=ensemble.RandomForestClassifier(n_estimators=n_estimators,max_depth=depth,random_state=0)\n",
        "  model.fit(X_train,y_train)\n",
        "  pred=model.predict(X_test)\n",
        "  pred_tr=model.predict(X_train)\n",
        "  valid_acc=metrics.accuracy_score(y_test,pred)\n",
        "  train_acc=metrics.accuracy_score(y_train,pred_tr)\n",
        "  print(\"accuracy\",metrics.accuracy_score(y_test,pred))\n",
        "  #print('auc',metrics.roc_auc_score(y_test,pred))\n",
        "  print(\"train accuracy\",metrics.accuracy_score(y_train,pred_tr))\n",
        "  return model,train_acc,valid_acc"
      ],
      "execution_count": null,
      "outputs": []
    },
    {
      "cell_type": "code",
      "metadata": {
        "colab": {
          "base_uri": "https://localhost:8080/"
        },
        "id": "kmS3v0IjOgJm",
        "outputId": "cf063a3b-eb75-49ae-dccb-1ab86de7c107"
      },
      "source": [
        "estimators=[50,100,200,300,400,500]\n",
        "trainn=[]\n",
        "testt=[]\n",
        "for est in estimators:\n",
        "  _,a,b=random_forest(est,6)\n",
        "  trainn.append(a)\n",
        "  testt.append(b)\n",
        "  print('\\n')"
      ],
      "execution_count": null,
      "outputs": [
        {
          "output_type": "stream",
          "text": [
            "accuracy 0.7211823667791756\n",
            "train accuracy 0.7137961897455568\n",
            "\n",
            "\n",
            "accuracy 0.7207732433261737\n",
            "train accuracy 0.713463751438435\n",
            "\n",
            "\n",
            "accuracy 0.7210800859159251\n",
            "train accuracy 0.7128244470016621\n",
            "\n",
            "\n",
            "accuracy 0.7210800859159251\n",
            "train accuracy 0.7133870349060223\n",
            "\n",
            "\n",
            "accuracy 0.7213869285056765\n",
            "train accuracy 0.7133870349060223\n",
            "\n",
            "\n",
            "accuracy 0.7217960519586786\n",
            "train accuracy 0.7135916123257895\n",
            "\n",
            "\n"
          ],
          "name": "stdout"
        }
      ]
    },
    {
      "cell_type": "code",
      "metadata": {
        "id": "OWbvPwmtOiNC"
      },
      "source": [
        "from matplotlib.legend_handler import HandlerLine2D\n",
        "def plott(ta,va,param,namex):\n",
        "  line1, = plt.plot(param, ta, 'b', label='Train ACC')\n",
        "  line2, = plt.plot(param, va, 'r', label='Test ACC')\n",
        "  plt.legend(handler_map={line1: HandlerLine2D(numpoints=2)})\n",
        "  plt.ylabel('ACCURACY')\n",
        "  plt.xlabel(namex)\n",
        "  plt.show()"
      ],
      "execution_count": null,
      "outputs": []
    },
    {
      "cell_type": "code",
      "metadata": {
        "colab": {
          "base_uri": "https://localhost:8080/",
          "height": 280
        },
        "id": "amXBcHrJOrme",
        "outputId": "d418d2e0-09e6-4ba1-cdcd-5c0d135abf79"
      },
      "source": [
        "plott(trainn,testt,estimators,'n_estimators')"
      ],
      "execution_count": null,
      "outputs": [
        {
          "output_type": "display_data",
          "data": {
            "image/png": "[encoded data removed]",
            "text/plain": [
              "<Figure size 432x288 with 1 Axes>"
            ]
          },
          "metadata": {
            "needs_background": "light"
          }
        }
      ]
    },
    {
      "cell_type": "code",
      "metadata": {
        "colab": {
          "base_uri": "https://localhost:8080/"
        },
        "id": "9zojxLdJOro9",
        "outputId": "cfdf60db-0a57-4ea6-de6a-26ef7c10094d"
      },
      "source": [
        "train_accur=[]\n",
        "valid_accur=[]\n",
        "max_depth1=[4,6,8,10,12,15,18]\n",
        "for depth in max_depth1:\n",
        "  _,a,b=random_forest(200,depth)\n",
        "  train_accur.append(a)\n",
        "  valid_accur.append(b)\n",
        "  print(\"\\n\")"
      ],
      "execution_count": null,
      "outputs": [
        {
          "output_type": "stream",
          "text": [
            "accuracy 0.7146363915311446\n",
            "train accuracy 0.703618463112134\n",
            "\n",
            "\n",
            "accuracy 0.7210800859159251\n",
            "train accuracy 0.7128244470016621\n",
            "\n",
            "\n",
            "accuracy 0.7304899253349698\n",
            "train accuracy 0.7292162127605165\n",
            "\n",
            "\n",
            "accuracy 0.7380587092155058\n",
            "train accuracy 0.7483186293312876\n",
            "\n",
            "\n",
            "accuracy 0.7473662677713\n",
            "train accuracy 0.7826620636747219\n",
            "\n",
            "\n",
            "accuracy 0.7486959189935563\n",
            "train accuracy 0.8395090141925585\n",
            "\n",
            "\n",
            "accuracy 0.7462411782755446\n",
            "train accuracy 0.8969185526147552\n",
            "\n",
            "\n"
          ],
          "name": "stdout"
        }
      ]
    },
    {
      "cell_type": "code",
      "metadata": {
        "colab": {
          "base_uri": "https://localhost:8080/",
          "height": 280
        },
        "id": "hCvQaz5bOsAt",
        "outputId": "c790147e-a9e4-4d96-8bcc-02040e87252f"
      },
      "source": [
        "plott(train_accur,valid_accur,max_depth1,'max_depth')"
      ],
      "execution_count": null,
      "outputs": [
        {
          "output_type": "display_data",
          "data": {
            "image/png": "[encoded data removed]",
            "text/plain": [
              "<Figure size 432x288 with 1 Axes>"
            ]
          },
          "metadata": {
            "needs_background": "light"
          }
        }
      ]
    },
    {
      "cell_type": "code",
      "metadata": {
        "colab": {
          "base_uri": "https://localhost:8080/"
        },
        "id": "bV6Gckk9OsEh",
        "outputId": "813c5003-0c45-4285-a2dc-c5a2604e997f"
      },
      "source": [
        "final_modl,_,_1=random_forest(200,12)"
      ],
      "execution_count": null,
      "outputs": [
        {
          "output_type": "stream",
          "text": [
            "accuracy 0.7473662677713\n",
            "train accuracy 0.7826620636747219\n"
          ],
          "name": "stdout"
        }
      ]
    },
    {
      "cell_type": "code",
      "metadata": {
        "colab": {
          "base_uri": "https://localhost:8080/"
        },
        "id": "nObWgMhjOsG-",
        "outputId": "8527236c-5d91-4c45-ce7f-80b2294bfccf"
      },
      "source": [
        "final_modl,_,_1=random_forest(300,12)"
      ],
      "execution_count": null,
      "outputs": [
        {
          "output_type": "stream",
          "text": [
            "accuracy 0.7477753912243019\n",
            "train accuracy 0.7829945019818437\n"
          ],
          "name": "stdout"
        }
      ]
    },
    {
      "cell_type": "code",
      "metadata": {
        "colab": {
          "base_uri": "https://localhost:8080/"
        },
        "id": "52_XcZTrOsJq",
        "outputId": "468dc37b-4d34-4e58-8f56-af54fb8a11b4"
      },
      "source": [
        "print(final_modl)"
      ],
      "execution_count": null,
      "outputs": [
        {
          "output_type": "stream",
          "text": [
            "RandomForestClassifier(bootstrap=True, ccp_alpha=0.0, class_weight=None,\n",
            "                       criterion='gini', max_depth=12, max_features='auto',\n",
            "                       max_leaf_nodes=None, max_samples=None,\n",
            "                       min_impurity_decrease=0.0, min_impurity_split=None,\n",
            "                       min_samples_leaf=1, min_samples_split=2,\n",
            "                       min_weight_fraction_leaf=0.0, n_estimators=300,\n",
            "                       n_jobs=None, oob_score=False, random_state=0, verbose=0,\n",
            "                       warm_start=False)\n"
          ],
          "name": "stdout"
        }
      ]
    },
    {
      "cell_type": "code",
      "metadata": {
        "id": "rfiJe7SgPyxh"
      },
      "source": [
        "from xgboost import XGBClassifier\n",
        "from sklearn import linear_model"
      ],
      "execution_count": null,
      "outputs": []
    },
    {
      "cell_type": "code",
      "metadata": {
        "id": "dEOM9XQFP01Y"
      },
      "source": [
        "def model_xgb(depth,est,rte):\n",
        "  modelxg=XGBClassifier(max_depth=depth,learning_rate=rte,n_estimators=est,random_state=0)\n",
        "  modelxg.fit(X_train,y_train,early_stopping_rounds=5,eval_set=[(X_test,y_test)],verbose=False)\n",
        "  pred_tr=modelxg.predict(X_train)\n",
        "  pred=modelxg.predict(X_test)\n",
        "  valid_acc=metrics.accuracy_score(y_test,pred)\n",
        "  train_acc=metrics.accuracy_score(y_train,pred_tr)\n",
        "  print(\"accuracy\",metrics.accuracy_score(y_test,pred))\n",
        "  #print('auc',metrics.roc_auc_score(y_test,pred))\n",
        "  print(\"train accuracy\",metrics.accuracy_score(y_train,pred_tr))\n",
        "  return modelxg,train_acc,valid_acc"
      ],
      "execution_count": null,
      "outputs": []
    },
    {
      "cell_type": "code",
      "metadata": {
        "colab": {
          "base_uri": "https://localhost:8080/"
        },
        "id": "zE5VgDeQP3JD",
        "outputId": "33330898-e3a7-4224-b6fd-8016f9ecd174"
      },
      "source": [
        "train_accuracy=[]\n",
        "valid_accuracy=[]\n",
        "max_depth=[4,6,8,10,12,15]\n",
        "for depth in max_depth:\n",
        "  _,a,b=model_xgb(depth,500,0.1)\n",
        "  train_accuracy.append(a)\n",
        "  valid_accuracy.append(b)\n",
        "  print(\"\\n\")"
      ],
      "execution_count": null,
      "outputs": [
        {
          "output_type": "stream",
          "text": [
            "accuracy 0.7178070982919096\n",
            "train accuracy 0.7095767804628564\n",
            "\n",
            "\n",
            "accuracy 0.7428659097882786\n",
            "train accuracy 0.748216340621404\n",
            "\n",
            "\n",
            "accuracy 0.7376495857625038\n",
            "train accuracy 0.7427694668200997\n",
            "\n",
            "\n",
            "accuracy 0.7604582182673622\n",
            "train accuracy 0.8058048842858969\n",
            "\n",
            "\n",
            "accuracy 0.758719443592104\n",
            "train accuracy 0.8334484081319524\n",
            "\n",
            "\n",
            "accuracy 0.7430704715147796\n",
            "train accuracy 0.8265439202148063\n",
            "\n",
            "\n"
          ],
          "name": "stdout"
        }
      ]
    },
    {
      "cell_type": "code",
      "metadata": {
        "colab": {
          "base_uri": "https://localhost:8080/",
          "height": 280
        },
        "id": "rzSOrGG9Sjcf",
        "outputId": "2c82562f-c7ff-40aa-9fc0-b169ebbb0f6f"
      },
      "source": [
        "plott(train_accuracy,valid_accuracy,max_depth,'max_depth')"
      ],
      "execution_count": null,
      "outputs": [
        {
          "output_type": "display_data",
          "data": {
            "image/png": "[encoded data removed]",
            "text/plain": [
              "<Figure size 432x288 with 1 Axes>"
            ]
          },
          "metadata": {
            "needs_background": "light"
          }
        }
      ]
    },
    {
      "cell_type": "code",
      "metadata": {
        "colab": {
          "base_uri": "https://localhost:8080/"
        },
        "id": "sfufK758SjfE",
        "outputId": "2223b9c5-11af-4134-b291-5d310afe2b7a"
      },
      "source": [
        "learning_rate=[0.05,0.01,0.1,0.15]\n",
        "tr=[]\n",
        "tes=[]\n",
        "for lr in learning_rate:\n",
        "  _,a,b=model_xgb(12,500,lr)\n",
        "  tr.append(a)\n",
        "  tes.append(b)\n",
        "  print(\"\\n\")"
      ],
      "execution_count": null,
      "outputs": [
        {
          "output_type": "stream",
          "text": [
            "accuracy 0.7368313388565\n",
            "train accuracy 0.7755785705152793\n",
            "\n",
            "\n",
            "accuracy 0.736013091950496\n",
            "train accuracy 0.7742999616417338\n",
            "\n",
            "\n",
            "accuracy 0.758719443592104\n",
            "train accuracy 0.8334484081319524\n",
            "\n",
            "\n",
            "accuracy 0.7583103201391019\n",
            "train accuracy 0.826339342795039\n",
            "\n",
            "\n"
          ],
          "name": "stdout"
        }
      ]
    },
    {
      "cell_type": "code",
      "metadata": {
        "colab": {
          "base_uri": "https://localhost:8080/",
          "height": 280
        },
        "id": "OGWK4BjeSjhn",
        "outputId": "9fef3763-9555-4f68-b107-a7697baf9506"
      },
      "source": [
        "plott(tr,tes,learning_rate,'learning_rate')"
      ],
      "execution_count": null,
      "outputs": [
        {
          "output_type": "display_data",
          "data": {
            "image/png": "[encoded data removed]",
            "text/plain": [
              "<Figure size 432x288 with 1 Axes>"
            ]
          },
          "metadata": {
            "needs_background": "light"
          }
        }
      ]
    },
    {
      "cell_type": "code",
      "metadata": {
        "colab": {
          "base_uri": "https://localhost:8080/"
        },
        "id": "ppDvsyMISjkd",
        "outputId": "a2b32a20-90dc-4cb3-f4c0-638d64a30630"
      },
      "source": [
        "final_model2,_,_1=model_xgb(10,500,0.1)"
      ],
      "execution_count": null,
      "outputs": [
        {
          "output_type": "stream",
          "text": [
            "accuracy 0.7604582182673622\n",
            "train accuracy 0.8058048842858969\n"
          ],
          "name": "stdout"
        }
      ]
    },
    {
      "cell_type": "code",
      "metadata": {
        "colab": {
          "base_uri": "https://localhost:8080/"
        },
        "id": "DpRNJdoxSw-o",
        "outputId": "9e502f0d-9726-4fec-8efd-fcdbdbbb6e7d"
      },
      "source": [
        "print(final_model2)"
      ],
      "execution_count": null,
      "outputs": [
        {
          "output_type": "stream",
          "text": [
            "XGBClassifier(base_score=0.5, booster='gbtree', colsample_bylevel=1,\n",
            "              colsample_bynode=1, colsample_bytree=1, gamma=0,\n",
            "              learning_rate=0.1, max_delta_step=0, max_depth=10,\n",
            "              min_child_weight=1, missing=None, n_estimators=500, n_jobs=1,\n",
            "              nthread=None, objective='binary:logistic', random_state=0,\n",
            "              reg_alpha=0, reg_lambda=1, scale_pos_weight=1, seed=None,\n",
            "              silent=None, subsample=1, verbosity=1)\n"
          ],
          "name": "stdout"
        }
      ]
    },
    {
      "cell_type": "code",
      "metadata": {
        "id": "Td7J_bBbSzjx"
      },
      "source": [
        ""
      ],
      "execution_count": null,
      "outputs": []
    },
    {
      "cell_type": "code",
      "metadata": {
        "id": "ZUDYU-qkUJVj"
      },
      "source": [
        ""
      ],
      "execution_count": null,
      "outputs": []
    },
    {
      "cell_type": "markdown",
      "metadata": {
        "id": "GSeE8iXDS485"
      },
      "source": [
        "#Testing any new data"
      ]
    },
    {
      "cell_type": "markdown",
      "metadata": {
        "id": "beaDjmteVAiX"
      },
      "source": [
        "First step is to store location of the csv file in below url, and then execute the cells below to get predictions on this data. "
      ]
    },
    {
      "cell_type": "code",
      "metadata": {
        "id": "YWZAQ-CFS5z0"
      },
      "source": [
        "url=''"
      ],
      "execution_count": null,
      "outputs": []
    },
    {
      "cell_type": "code",
      "metadata": {
        "id": "jrMcbFSWVCsP"
      },
      "source": [
        "test_data=pd.read_csv(url)"
      ],
      "execution_count": null,
      "outputs": []
    },
    {
      "cell_type": "code",
      "metadata": {
        "id": "97bJuTt_V7GR"
      },
      "source": [
        "features=test_data.columns"
      ],
      "execution_count": null,
      "outputs": []
    },
    {
      "cell_type": "code",
      "metadata": {
        "id": "unFnWn8nXPUh"
      },
      "source": [
        "def check_data(data,col,dic):\n",
        "  for i,row in data.iterrows():\n",
        "    for ind,word in enumerate(row[col]):\n",
        "      if word not in dic:\n",
        "        data.loc[i,col][ind]='RARE'\n",
        "  return data"
      ],
      "execution_count": null,
      "outputs": []
    },
    {
      "cell_type": "code",
      "metadata": {
        "id": "YBC1DkZyZoYT"
      },
      "source": [
        "test_data=process(test_data)"
      ],
      "execution_count": null,
      "outputs": []
    },
    {
      "cell_type": "code",
      "metadata": {
        "id": "Y1Jafv6aVudL"
      },
      "source": [
        "for i in range(len(features)):\n",
        "  if features[i] != 'final_match':\n",
        "    test_data=check_data(test_data,features[i],dictionary[i])\n",
        "    test_data=impute_values(test_data,features[i],dictionary[i])"
      ],
      "execution_count": null,
      "outputs": []
    },
    {
      "cell_type": "code",
      "metadata": {
        "id": "_zejwWEybkdt"
      },
      "source": [
        "test_data=test_data.drop(['final_match'],axis=1)"
      ],
      "execution_count": null,
      "outputs": []
    },
    {
      "cell_type": "code",
      "metadata": {
        "id": "Ct3np0rgazlU"
      },
      "source": [
        "finalpred=final_model2.predict(test_data)\n"
      ],
      "execution_count": null,
      "outputs": []
    },
    {
      "cell_type": "code",
      "metadata": {
        "id": "uQMA3jpObp_F"
      },
      "source": [
        ""
      ],
      "execution_count": null,
      "outputs": []
    }
  ]
}