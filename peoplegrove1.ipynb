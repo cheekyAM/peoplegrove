{
  "nbformat": 4,
  "nbformat_minor": 0,
  "metadata": {
    "colab": {
      "name": "peoplegrove1.ipynb",
      "provenance": [],
      "collapsed_sections": []
    },
    "kernelspec": {
      "name": "python3",
      "display_name": "Python 3"
    },
    "language_info": {
      "name": "python"
    }
  },
  "cells": [
    {
      "cell_type": "code",
      "metadata": {
        "colab": {
          "base_uri": "https://localhost:8080/"
        },
        "id": "NQ3AcyKay7Di",
        "outputId": "001bcc71-b259-4d90-a936-11bf847e3dfa"
      },
      "source": [
        "from google.colab import drive\n",
        "drive.mount('/content/drive')"
      ],
      "execution_count": null,
      "outputs": [
        {
          "output_type": "stream",
          "text": [
            "Mounted at /content/drive\n"
          ],
          "name": "stdout"
        }
      ]
    },
    {
      "cell_type": "code",
      "metadata": {
        "colab": {
          "base_uri": "https://localhost:8080/"
        },
        "id": "9SpT6N-azBZP",
        "outputId": "5ce65f17-4888-4909-8caa-98d7090b6a64"
      },
      "source": [
        "%cd /content/drive/MyDrive"
      ],
      "execution_count": null,
      "outputs": [
        {
          "output_type": "stream",
          "text": [
            "/content/drive/MyDrive\n"
          ],
          "name": "stdout"
        }
      ]
    },
    {
      "cell_type": "code",
      "metadata": {
        "id": "3xhbsxq8zFvq"
      },
      "source": [
        "import numpy as np # linear algebra\n",
        "import pandas as pd # data processing, CSV file I/O (e.g. pd.read_csv)\n",
        "import matplotlib.pyplot as plt # data visualization\n",
        "import seaborn as sns # statistical data visualization\n",
        "from sklearn import model_selection\n",
        "%matplotlib inline"
      ],
      "execution_count": null,
      "outputs": []
    },
    {
      "cell_type": "code",
      "metadata": {
        "id": "LO-6ymaOzKpK"
      },
      "source": [
        "data=pd.read_csv('pg_recommendation_data.csv')"
      ],
      "execution_count": null,
      "outputs": []
    },
    {
      "cell_type": "code",
      "metadata": {
        "colab": {
          "base_uri": "https://localhost:8080/",
          "height": 425
        },
        "id": "PGIo2gQlzKrw",
        "outputId": "3255ae64-6895-4dfb-e844-b2491063e0a0"
      },
      "source": [
        "data.head()"
      ],
      "execution_count": null,
      "outputs": [
        {
          "output_type": "execute_result",
          "data": {
            "text/html": [
              "<div>\n",
              "<style scoped>\n",
              "    .dataframe tbody tr th:only-of-type {\n",
              "        vertical-align: middle;\n",
              "    }\n",
              "\n",
              "    .dataframe tbody tr th {\n",
              "        vertical-align: top;\n",
              "    }\n",
              "\n",
              "    .dataframe thead th {\n",
              "        text-align: right;\n",
              "    }\n",
              "</style>\n",
              "<table border=\"1\" class=\"dataframe\">\n",
              "  <thead>\n",
              "    <tr style=\"text-align: right;\">\n",
              "      <th></th>\n",
              "      <th>mentee_major</th>\n",
              "      <th>mentee_help_topics</th>\n",
              "      <th>mentee_experitse</th>\n",
              "      <th>mentor_major</th>\n",
              "      <th>mentor_help_topics</th>\n",
              "      <th>mentor_experitse</th>\n",
              "      <th>final_match</th>\n",
              "    </tr>\n",
              "  </thead>\n",
              "  <tbody>\n",
              "    <tr>\n",
              "      <th>0</th>\n",
              "      <td>[Accounting and Financial Management]</td>\n",
              "      <td>[Life Skills, Cover Letter Review, Career Plan...</td>\n",
              "      <td>[Accounting]</td>\n",
              "      <td>[Accounting and Financial Management]</td>\n",
              "      <td>[Parenting vs. Career, Career / Industry Trends]</td>\n",
              "      <td>[Finance, Accounting]</td>\n",
              "      <td>1</td>\n",
              "    </tr>\n",
              "    <tr>\n",
              "      <th>1</th>\n",
              "      <td>[Information Systems Management]</td>\n",
              "      <td>[Working Overseas, Life Skills, Startups, Care...</td>\n",
              "      <td>[Food &amp; Restaurants, Law, Computer - IT Servic...</td>\n",
              "      <td>[Information Systems Management, Project Manag...</td>\n",
              "      <td>[Leadership Skills, Working Overseas, Personal...</td>\n",
              "      <td>[Trade (Wholesale), Government / Public Admin,...</td>\n",
              "      <td>0</td>\n",
              "    </tr>\n",
              "    <tr>\n",
              "      <th>2</th>\n",
              "      <td>[Cybersecurity Technology, Computer Networks a...</td>\n",
              "      <td>[Leadership Skills, Personal and Professional ...</td>\n",
              "      <td>[Military &amp; Defense, Technology, Computer - IT...</td>\n",
              "      <td>[Cybersecurity Technology, Computer Networks a...</td>\n",
              "      <td>[Management, Resume / CV Review, Career / Indu...</td>\n",
              "      <td>[Government / Public Admin, Computer - IT Serv...</td>\n",
              "      <td>1</td>\n",
              "    </tr>\n",
              "    <tr>\n",
              "      <th>3</th>\n",
              "      <td>[Masters of Human Resources Management]</td>\n",
              "      <td>[None]</td>\n",
              "      <td>[Human Resources]</td>\n",
              "      <td>[Business Administration]</td>\n",
              "      <td>[Leadership Skills, Life Skills, Interviewing ...</td>\n",
              "      <td>[Human Resources, Advertising / Marketing, Tel...</td>\n",
              "      <td>0</td>\n",
              "    </tr>\n",
              "    <tr>\n",
              "      <th>4</th>\n",
              "      <td>[Sociology]</td>\n",
              "      <td>[Leadership Skills, Life Skills, Management, C...</td>\n",
              "      <td>[Healthcare]</td>\n",
              "      <td>[Business Administration]</td>\n",
              "      <td>[Leadership Skills, Working Overseas, Personal...</td>\n",
              "      <td>[Human Resources, Computer - Hardware, Finance...</td>\n",
              "      <td>0</td>\n",
              "    </tr>\n",
              "  </tbody>\n",
              "</table>\n",
              "</div>"
            ],
            "text/plain": [
              "                                        mentee_major  ... final_match\n",
              "0              [Accounting and Financial Management]  ...           1\n",
              "1                   [Information Systems Management]  ...           0\n",
              "2  [Cybersecurity Technology, Computer Networks a...  ...           1\n",
              "3            [Masters of Human Resources Management]  ...           0\n",
              "4                                        [Sociology]  ...           0\n",
              "\n",
              "[5 rows x 7 columns]"
            ]
          },
          "metadata": {},
          "execution_count": 43
        }
      ]
    },
    {
      "cell_type": "code",
      "metadata": {
        "colab": {
          "base_uri": "https://localhost:8080/"
        },
        "id": "_PkPRibWzKuC",
        "outputId": "eee76e20-85d5-43ca-e8d1-2ac0146a1d52"
      },
      "source": [
        "columns=data.columns\n",
        "data.shape"
      ],
      "execution_count": null,
      "outputs": [
        {
          "output_type": "execute_result",
          "data": {
            "text/plain": [
              "(48882, 7)"
            ]
          },
          "metadata": {},
          "execution_count": 6
        }
      ]
    },
    {
      "cell_type": "code",
      "metadata": {
        "id": "cH1AYKNAuEP6"
      },
      "source": [
        "def process(data):\n",
        "  cols=data.columns\n",
        "  for i in range(len(data)):\n",
        "    for col in cols:\n",
        "      if data.loc[i,col] == '[]':\n",
        "        data.loc[i,col]='[None]'\n",
        "  for col in cols:\n",
        "    if col != 'final_match':\n",
        "      data[col]=data[col].apply(eval)\n",
        "  return data\n"
      ],
      "execution_count": null,
      "outputs": []
    },
    {
      "cell_type": "code",
      "metadata": {
        "id": "DjyuSK8XzKwa"
      },
      "source": [
        "data=process(data)"
      ],
      "execution_count": null,
      "outputs": []
    },
    {
      "cell_type": "markdown",
      "metadata": {
        "id": "Z3o8iMBM0n9k"
      },
      "source": [
        "**Encoding** :\n",
        "Here we are kind gonna transform feature categories to their count, but since we have lists as sample in the column, we can use the max for that to select single value.\n",
        "first proceed without using rare category for less frequented categories. and use none for empty arrays."
      ]
    },
    {
      "cell_type": "code",
      "metadata": {
        "id": "gnLAXsxI5JHR"
      },
      "source": [
        "def convert_cols_to_num(data,col):\n",
        "  cat_dict={}\n",
        "  for i,row in data.iterrows():\n",
        "    for word in row[col]:\n",
        "      if word not in cat_dict:\n",
        "        cat_dict[word]=1\n",
        "      else:\n",
        "        cat_dict[word] +=1\n",
        "\n",
        "  for j,row in data.iterrows():\n",
        "    for i in range(len(row[col])):\n",
        "      if row[col][i] in cat_dict:\n",
        "        row[col][i]=int(cat_dict[row[col][i]])\n",
        "      else:\n",
        "        row[col][i]=0\n",
        "    \n",
        "    m=max(row[col])\n",
        "    data.loc[j,col]=m\n",
        "  return data"
      ],
      "execution_count": null,
      "outputs": []
    },
    {
      "cell_type": "code",
      "metadata": {
        "id": "--eIRGANLiK5"
      },
      "source": [
        "for col in ['mentee_major','mentee_help_topics','mentee_experitse','mentor_major','mentor_help_topics','mentor_experitse']:\n",
        "  data=convert_cols_to_num(data,col)"
      ],
      "execution_count": null,
      "outputs": []
    },
    {
      "cell_type": "code",
      "metadata": {
        "id": "EkKimSCKJhx6"
      },
      "source": [
        "for col in columns:\n",
        "  data[col]=data[col].astype('int')"
      ],
      "execution_count": null,
      "outputs": []
    },
    {
      "cell_type": "code",
      "metadata": {
        "colab": {
          "base_uri": "https://localhost:8080/",
          "height": 204
        },
        "id": "qj3N5hXiHfUz",
        "outputId": "39f7e3aa-820e-4a79-fed6-3fea39310d24"
      },
      "source": [
        "data.head()"
      ],
      "execution_count": null,
      "outputs": [
        {
          "output_type": "execute_result",
          "data": {
            "text/html": [
              "<div>\n",
              "<style scoped>\n",
              "    .dataframe tbody tr th:only-of-type {\n",
              "        vertical-align: middle;\n",
              "    }\n",
              "\n",
              "    .dataframe tbody tr th {\n",
              "        vertical-align: top;\n",
              "    }\n",
              "\n",
              "    .dataframe thead th {\n",
              "        text-align: right;\n",
              "    }\n",
              "</style>\n",
              "<table border=\"1\" class=\"dataframe\">\n",
              "  <thead>\n",
              "    <tr style=\"text-align: right;\">\n",
              "      <th></th>\n",
              "      <th>mentee_major</th>\n",
              "      <th>mentee_help_topics</th>\n",
              "      <th>mentee_experitse</th>\n",
              "      <th>mentor_major</th>\n",
              "      <th>mentor_help_topics</th>\n",
              "      <th>mentor_experitse</th>\n",
              "      <th>final_match</th>\n",
              "    </tr>\n",
              "  </thead>\n",
              "  <tbody>\n",
              "    <tr>\n",
              "      <th>0</th>\n",
              "      <td>1232</td>\n",
              "      <td>14281</td>\n",
              "      <td>4139</td>\n",
              "      <td>945</td>\n",
              "      <td>22218</td>\n",
              "      <td>11409</td>\n",
              "      <td>1</td>\n",
              "    </tr>\n",
              "    <tr>\n",
              "      <th>1</th>\n",
              "      <td>1156</td>\n",
              "      <td>7908</td>\n",
              "      <td>12085</td>\n",
              "      <td>2641</td>\n",
              "      <td>23570</td>\n",
              "      <td>18223</td>\n",
              "      <td>0</td>\n",
              "    </tr>\n",
              "    <tr>\n",
              "      <th>2</th>\n",
              "      <td>4403</td>\n",
              "      <td>8472</td>\n",
              "      <td>12085</td>\n",
              "      <td>4296</td>\n",
              "      <td>22218</td>\n",
              "      <td>18223</td>\n",
              "      <td>1</td>\n",
              "    </tr>\n",
              "    <tr>\n",
              "      <th>3</th>\n",
              "      <td>107</td>\n",
              "      <td>16082</td>\n",
              "      <td>7782</td>\n",
              "      <td>6263</td>\n",
              "      <td>23570</td>\n",
              "      <td>14117</td>\n",
              "      <td>0</td>\n",
              "    </tr>\n",
              "    <tr>\n",
              "      <th>4</th>\n",
              "      <td>1109</td>\n",
              "      <td>14281</td>\n",
              "      <td>7295</td>\n",
              "      <td>6263</td>\n",
              "      <td>23570</td>\n",
              "      <td>18223</td>\n",
              "      <td>0</td>\n",
              "    </tr>\n",
              "  </tbody>\n",
              "</table>\n",
              "</div>"
            ],
            "text/plain": [
              "   mentee_major  mentee_help_topics  ...  mentor_experitse  final_match\n",
              "0          1232               14281  ...             11409            1\n",
              "1          1156                7908  ...             18223            0\n",
              "2          4403                8472  ...             18223            1\n",
              "3           107               16082  ...             14117            0\n",
              "4          1109               14281  ...             18223            0\n",
              "\n",
              "[5 rows x 7 columns]"
            ]
          },
          "metadata": {},
          "execution_count": 82
        }
      ]
    },
    {
      "cell_type": "code",
      "metadata": {
        "colab": {
          "base_uri": "https://localhost:8080/"
        },
        "id": "uO3fNXDaN0RY",
        "outputId": "743e594c-d720-49c6-c0f5-ab88e854acff"
      },
      "source": [
        "data.info()"
      ],
      "execution_count": null,
      "outputs": [
        {
          "output_type": "stream",
          "text": [
            "<class 'pandas.core.frame.DataFrame'>\n",
            "RangeIndex: 48882 entries, 0 to 48881\n",
            "Data columns (total 7 columns):\n",
            " #   Column              Non-Null Count  Dtype\n",
            "---  ------              --------------  -----\n",
            " 0   mentee_major        48882 non-null  int64\n",
            " 1   mentee_help_topics  48882 non-null  int64\n",
            " 2   mentee_experitse    48882 non-null  int64\n",
            " 3   mentor_major        48882 non-null  int64\n",
            " 4   mentor_help_topics  48882 non-null  int64\n",
            " 5   mentor_experitse    48882 non-null  int64\n",
            " 6   final_match         48882 non-null  int64\n",
            "dtypes: int64(7)\n",
            "memory usage: 2.6 MB\n"
          ],
          "name": "stdout"
        }
      ]
    },
    {
      "cell_type": "code",
      "metadata": {
        "id": "Bfl-JfxcT72A"
      },
      "source": [
        "data.to_csv('new_data.csv',index=False)"
      ],
      "execution_count": null,
      "outputs": []
    },
    {
      "cell_type": "markdown",
      "metadata": {
        "id": "Mn5aASbBTalQ"
      },
      "source": [
        "#Tests on above data using RF, Logistic regression & Boosting"
      ]
    },
    {
      "cell_type": "code",
      "metadata": {
        "id": "ybdMkeEkO1Ru"
      },
      "source": [
        "df=pd.read_csv('new_data.csv')"
      ],
      "execution_count": null,
      "outputs": []
    },
    {
      "cell_type": "code",
      "metadata": {
        "colab": {
          "base_uri": "https://localhost:8080/",
          "height": 204
        },
        "id": "16Kf2ukyO1T4",
        "outputId": "eba32eb5-7d3e-4852-e692-9e32cf7e35ce"
      },
      "source": [
        "df.head()"
      ],
      "execution_count": null,
      "outputs": [
        {
          "output_type": "execute_result",
          "data": {
            "text/html": [
              "<div>\n",
              "<style scoped>\n",
              "    .dataframe tbody tr th:only-of-type {\n",
              "        vertical-align: middle;\n",
              "    }\n",
              "\n",
              "    .dataframe tbody tr th {\n",
              "        vertical-align: top;\n",
              "    }\n",
              "\n",
              "    .dataframe thead th {\n",
              "        text-align: right;\n",
              "    }\n",
              "</style>\n",
              "<table border=\"1\" class=\"dataframe\">\n",
              "  <thead>\n",
              "    <tr style=\"text-align: right;\">\n",
              "      <th></th>\n",
              "      <th>mentee_major</th>\n",
              "      <th>mentee_help_topics</th>\n",
              "      <th>mentee_experitse</th>\n",
              "      <th>mentor_major</th>\n",
              "      <th>mentor_help_topics</th>\n",
              "      <th>mentor_experitse</th>\n",
              "      <th>final_match</th>\n",
              "    </tr>\n",
              "  </thead>\n",
              "  <tbody>\n",
              "    <tr>\n",
              "      <th>0</th>\n",
              "      <td>1232</td>\n",
              "      <td>14281</td>\n",
              "      <td>4139</td>\n",
              "      <td>945</td>\n",
              "      <td>22218</td>\n",
              "      <td>11409</td>\n",
              "      <td>1</td>\n",
              "    </tr>\n",
              "    <tr>\n",
              "      <th>1</th>\n",
              "      <td>1156</td>\n",
              "      <td>7908</td>\n",
              "      <td>12085</td>\n",
              "      <td>2641</td>\n",
              "      <td>23570</td>\n",
              "      <td>18223</td>\n",
              "      <td>0</td>\n",
              "    </tr>\n",
              "    <tr>\n",
              "      <th>2</th>\n",
              "      <td>4403</td>\n",
              "      <td>8472</td>\n",
              "      <td>12085</td>\n",
              "      <td>4296</td>\n",
              "      <td>22218</td>\n",
              "      <td>18223</td>\n",
              "      <td>1</td>\n",
              "    </tr>\n",
              "    <tr>\n",
              "      <th>3</th>\n",
              "      <td>107</td>\n",
              "      <td>16082</td>\n",
              "      <td>7782</td>\n",
              "      <td>6263</td>\n",
              "      <td>23570</td>\n",
              "      <td>14117</td>\n",
              "      <td>0</td>\n",
              "    </tr>\n",
              "    <tr>\n",
              "      <th>4</th>\n",
              "      <td>1109</td>\n",
              "      <td>14281</td>\n",
              "      <td>7295</td>\n",
              "      <td>6263</td>\n",
              "      <td>23570</td>\n",
              "      <td>18223</td>\n",
              "      <td>0</td>\n",
              "    </tr>\n",
              "  </tbody>\n",
              "</table>\n",
              "</div>"
            ],
            "text/plain": [
              "   mentee_major  mentee_help_topics  ...  mentor_experitse  final_match\n",
              "0          1232               14281  ...             11409            1\n",
              "1          1156                7908  ...             18223            0\n",
              "2          4403                8472  ...             18223            1\n",
              "3           107               16082  ...             14117            0\n",
              "4          1109               14281  ...             18223            0\n",
              "\n",
              "[5 rows x 7 columns]"
            ]
          },
          "metadata": {},
          "execution_count": 7
        }
      ]
    },
    {
      "cell_type": "code",
      "metadata": {
        "colab": {
          "base_uri": "https://localhost:8080/"
        },
        "id": "OWziW67LO1WE",
        "outputId": "429bab80-1754-4f03-c1f9-edd43e6fa94d"
      },
      "source": [
        "df.shape"
      ],
      "execution_count": null,
      "outputs": [
        {
          "output_type": "execute_result",
          "data": {
            "text/plain": [
              "(48882, 7)"
            ]
          },
          "metadata": {},
          "execution_count": 8
        }
      ]
    },
    {
      "cell_type": "markdown",
      "metadata": {
        "id": "7_CYkmvAx-St"
      },
      "source": [
        "Lets shuffle the data for randomness"
      ]
    },
    {
      "cell_type": "code",
      "metadata": {
        "id": "QZobwBaNph6e"
      },
      "source": [
        "df=df.sample(frac=1).reset_index(drop=True)"
      ],
      "execution_count": null,
      "outputs": []
    },
    {
      "cell_type": "markdown",
      "metadata": {
        "id": "yMyx264qXhL1"
      },
      "source": [
        "**Feature Engineering:**  We can find out the importance of features based on variance (say selecting features with variance greater than some threshold.\n",
        "\n",
        "OR we can also remove features which have high correleation."
      ]
    },
    {
      "cell_type": "code",
      "metadata": {
        "colab": {
          "base_uri": "https://localhost:8080/",
          "height": 286
        },
        "id": "XfRXER9wYCM9",
        "outputId": "82f2a3b1-4f34-4299-ed64-4604d83fa77d"
      },
      "source": [
        "df.corr()"
      ],
      "execution_count": null,
      "outputs": [
        {
          "output_type": "execute_result",
          "data": {
            "text/html": [
              "<div>\n",
              "<style scoped>\n",
              "    .dataframe tbody tr th:only-of-type {\n",
              "        vertical-align: middle;\n",
              "    }\n",
              "\n",
              "    .dataframe tbody tr th {\n",
              "        vertical-align: top;\n",
              "    }\n",
              "\n",
              "    .dataframe thead th {\n",
              "        text-align: right;\n",
              "    }\n",
              "</style>\n",
              "<table border=\"1\" class=\"dataframe\">\n",
              "  <thead>\n",
              "    <tr style=\"text-align: right;\">\n",
              "      <th></th>\n",
              "      <th>mentee_major</th>\n",
              "      <th>mentee_help_topics</th>\n",
              "      <th>mentee_experitse</th>\n",
              "      <th>mentor_major</th>\n",
              "      <th>mentor_help_topics</th>\n",
              "      <th>mentor_experitse</th>\n",
              "      <th>final_match</th>\n",
              "    </tr>\n",
              "  </thead>\n",
              "  <tbody>\n",
              "    <tr>\n",
              "      <th>mentee_major</th>\n",
              "      <td>1.000000</td>\n",
              "      <td>-0.016715</td>\n",
              "      <td>0.252552</td>\n",
              "      <td>0.329619</td>\n",
              "      <td>-0.006294</td>\n",
              "      <td>0.083865</td>\n",
              "      <td>0.044083</td>\n",
              "    </tr>\n",
              "    <tr>\n",
              "      <th>mentee_help_topics</th>\n",
              "      <td>-0.016715</td>\n",
              "      <td>1.000000</td>\n",
              "      <td>-0.018860</td>\n",
              "      <td>-0.019062</td>\n",
              "      <td>-0.134507</td>\n",
              "      <td>-0.129020</td>\n",
              "      <td>-0.229415</td>\n",
              "    </tr>\n",
              "    <tr>\n",
              "      <th>mentee_experitse</th>\n",
              "      <td>0.252552</td>\n",
              "      <td>-0.018860</td>\n",
              "      <td>1.000000</td>\n",
              "      <td>0.137050</td>\n",
              "      <td>0.102770</td>\n",
              "      <td>0.265316</td>\n",
              "      <td>0.032055</td>\n",
              "    </tr>\n",
              "    <tr>\n",
              "      <th>mentor_major</th>\n",
              "      <td>0.329619</td>\n",
              "      <td>-0.019062</td>\n",
              "      <td>0.137050</td>\n",
              "      <td>1.000000</td>\n",
              "      <td>0.063558</td>\n",
              "      <td>0.128863</td>\n",
              "      <td>-0.050949</td>\n",
              "    </tr>\n",
              "    <tr>\n",
              "      <th>mentor_help_topics</th>\n",
              "      <td>-0.006294</td>\n",
              "      <td>-0.134507</td>\n",
              "      <td>0.102770</td>\n",
              "      <td>0.063558</td>\n",
              "      <td>1.000000</td>\n",
              "      <td>0.468873</td>\n",
              "      <td>-0.047357</td>\n",
              "    </tr>\n",
              "    <tr>\n",
              "      <th>mentor_experitse</th>\n",
              "      <td>0.083865</td>\n",
              "      <td>-0.129020</td>\n",
              "      <td>0.265316</td>\n",
              "      <td>0.128863</td>\n",
              "      <td>0.468873</td>\n",
              "      <td>1.000000</td>\n",
              "      <td>-0.033415</td>\n",
              "    </tr>\n",
              "    <tr>\n",
              "      <th>final_match</th>\n",
              "      <td>0.044083</td>\n",
              "      <td>-0.229415</td>\n",
              "      <td>0.032055</td>\n",
              "      <td>-0.050949</td>\n",
              "      <td>-0.047357</td>\n",
              "      <td>-0.033415</td>\n",
              "      <td>1.000000</td>\n",
              "    </tr>\n",
              "  </tbody>\n",
              "</table>\n",
              "</div>"
            ],
            "text/plain": [
              "                    mentee_major  ...  final_match\n",
              "mentee_major            1.000000  ...     0.044083\n",
              "mentee_help_topics     -0.016715  ...    -0.229415\n",
              "mentee_experitse        0.252552  ...     0.032055\n",
              "mentor_major            0.329619  ...    -0.050949\n",
              "mentor_help_topics     -0.006294  ...    -0.047357\n",
              "mentor_experitse        0.083865  ...    -0.033415\n",
              "final_match             0.044083  ...     1.000000\n",
              "\n",
              "[7 rows x 7 columns]"
            ]
          },
          "metadata": {},
          "execution_count": 10
        }
      ]
    },
    {
      "cell_type": "markdown",
      "metadata": {
        "id": "RbJiAI_QYheT"
      },
      "source": [
        "We can see there isn't any features with high correlation with each other.\n",
        "Lets check with variance too"
      ]
    },
    {
      "cell_type": "code",
      "metadata": {
        "id": "kyuoavklZGfO"
      },
      "source": [
        "df1=df.copy()"
      ],
      "execution_count": null,
      "outputs": []
    },
    {
      "cell_type": "code",
      "metadata": {
        "id": "tdis7qfoY5Cv"
      },
      "source": [
        "from sklearn.feature_selection import VarianceThreshold\n",
        "var_thresh = VarianceThreshold(threshold=0.1)\n",
        "transformed_data = var_thresh.fit_transform(df1)"
      ],
      "execution_count": null,
      "outputs": []
    },
    {
      "cell_type": "code",
      "metadata": {
        "colab": {
          "base_uri": "https://localhost:8080/"
        },
        "id": "XLfpGLjJZOC3",
        "outputId": "7c0ddc05-388c-4b55-fb9c-214b79f19662"
      },
      "source": [
        "transformed_data[0]"
      ],
      "execution_count": null,
      "outputs": [
        {
          "output_type": "execute_result",
          "data": {
            "text/plain": [
              "array([  448,  2649,   979,   692, 23570, 18223,     1])"
            ]
          },
          "metadata": {},
          "execution_count": 13
        }
      ]
    },
    {
      "cell_type": "markdown",
      "metadata": {
        "id": "QWd2wVxOZioS"
      },
      "source": [
        "You can see that all columns are selected, that means these features has variance of greater than threshold 0.1. So, lets continue to build model with all the features."
      ]
    },
    {
      "cell_type": "code",
      "metadata": {
        "id": "akDp6SWYPFF6"
      },
      "source": [
        "from sklearn import model_selection,preprocessing,metrics\n",
        "from sklearn import ensemble"
      ],
      "execution_count": null,
      "outputs": []
    },
    {
      "cell_type": "code",
      "metadata": {
        "id": "jXF2PsuBpWv7"
      },
      "source": [
        "y=df['final_match']\n",
        "X=df.drop(['final_match'],axis=1)"
      ],
      "execution_count": null,
      "outputs": []
    },
    {
      "cell_type": "code",
      "metadata": {
        "colab": {
          "base_uri": "https://localhost:8080/"
        },
        "id": "OaxSyH7UqCPE",
        "outputId": "02cc78bc-e81a-42d9-ad30-7be8223f21f1"
      },
      "source": [
        "print(X.shape,\"\\n\",y.shape)"
      ],
      "execution_count": null,
      "outputs": [
        {
          "output_type": "stream",
          "text": [
            "(48882, 6) \n",
            " (48882,)\n"
          ],
          "name": "stdout"
        }
      ]
    },
    {
      "cell_type": "markdown",
      "metadata": {
        "id": "mC-59NeCrb1t"
      },
      "source": [
        "**Splittting Data**\n",
        "splitting data using with 80% train size and 20% test size, since the classes in data are evenly balanced we don't need to use class imbalance techniques. Although we can use simple cross validation scheme( not stratified)."
      ]
    },
    {
      "cell_type": "code",
      "metadata": {
        "id": "rzufLTnrPFIu"
      },
      "source": [
        "X_train,X_test,y_train,y_test=model_selection.train_test_split(X,y,train_size=0.8,test_size=0.2,random_state=0)"
      ],
      "execution_count": null,
      "outputs": []
    },
    {
      "cell_type": "code",
      "metadata": {
        "colab": {
          "base_uri": "https://localhost:8080/"
        },
        "id": "zn74-kepPFSV",
        "outputId": "6d838466-e2f8-4f2a-aba2-aa5997c71bd2"
      },
      "source": [
        "print(X_train.shape,X_test.shape,y_train.shape,y_test.shape)"
      ],
      "execution_count": null,
      "outputs": [
        {
          "output_type": "stream",
          "text": [
            "(39105, 6) (9777, 6) (39105,) (9777,)\n"
          ],
          "name": "stdout"
        }
      ]
    },
    {
      "cell_type": "code",
      "metadata": {
        "id": "qhNq1H917zd7"
      },
      "source": [
        "def log_reg():\n",
        "  model_lr = linear_model.LogisticRegression()\n",
        "  model_lr.fit(X_train.values,y_train.values)\n",
        "  pred_tr=model_lr.predict(X_train)\n",
        "  pred=model_lr.predict(X_test)\n",
        "  print(\"accuracy\",metrics.accuracy_score(y_test,pred))\n",
        "  print(\"train accuracy\",metrics.accuracy_score(y_train,pred_tr))"
      ],
      "execution_count": null,
      "outputs": []
    },
    {
      "cell_type": "code",
      "metadata": {
        "colab": {
          "base_uri": "https://localhost:8080/"
        },
        "id": "nEMwj4ekak8R",
        "outputId": "17fe4265-3cf3-457e-84c7-00962bd81072"
      },
      "source": [
        "log_reg()"
      ],
      "execution_count": null,
      "outputs": [
        {
          "output_type": "stream",
          "text": [
            "accuracy 0.5779891582284955\n",
            "train accuracy 0.5796445467331544\n"
          ],
          "name": "stdout"
        }
      ]
    },
    {
      "cell_type": "markdown",
      "metadata": {
        "id": "lPkQv9mHbBrU"
      },
      "source": [
        "lets see how it behaves with only 2 features of mentee_major, mentor_major"
      ]
    },
    {
      "cell_type": "code",
      "metadata": {
        "colab": {
          "base_uri": "https://localhost:8080/"
        },
        "id": "RsCJyruIaq-X",
        "outputId": "1d88a65a-52c8-4acd-b93b-93ac657fb383"
      },
      "source": [
        "xt=X_train[['mentee_major','mentor_major']]\n",
        "xtt=X_test[['mentee_major','mentor_major']]\n",
        "model_lr1 = linear_model.LogisticRegression()\n",
        "model_lr1.fit(xt,y_train.values)\n",
        "pred_tr=model_lr1.predict(xt)\n",
        "pred=model_lr1.predict(xtt)\n",
        "print(\"accuracy\",metrics.accuracy_score(y_test,pred))\n",
        "print(\"train accuracy\",metrics.accuracy_score(y_train,pred_tr))"
      ],
      "execution_count": null,
      "outputs": [
        {
          "output_type": "stream",
          "text": [
            "accuracy 0.548225427022604\n",
            "train accuracy 0.5488300728807058\n"
          ],
          "name": "stdout"
        }
      ]
    },
    {
      "cell_type": "markdown",
      "metadata": {
        "id": "1DdCDLLZsIgq"
      },
      "source": [
        "It can be observed the classes were evenly balanced so, this 54% of accuracy doesnot make sense, because even if we blindly without using any model select the prediction for the sample as 1. It will still be 50% accurate. So lets move on to more advanced algorithms for classification."
      ]
    },
    {
      "cell_type": "code",
      "metadata": {
        "id": "skF4ZbsuPFVF"
      },
      "source": [
        "def random_forest(n_estimators,depth):\n",
        "  model=ensemble.RandomForestClassifier(n_estimators=n_estimators,max_depth=depth,random_state=0)\n",
        "  model.fit(X_train,y_train)\n",
        "  pred=model.predict(X_test)\n",
        "  pred_tr=model.predict(X_train)\n",
        "  valid_acc=metrics.accuracy_score(y_test,pred)\n",
        "  train_acc=metrics.accuracy_score(y_train,pred_tr)\n",
        "  print(\"accuracy\",metrics.accuracy_score(y_test,pred))\n",
        "  #print('auc',metrics.roc_auc_score(y_test,pred))\n",
        "  print(\"train accuracy\",metrics.accuracy_score(y_train,pred_tr))\n",
        "  return model,train_acc,valid_acc"
      ],
      "execution_count": null,
      "outputs": []
    },
    {
      "cell_type": "code",
      "metadata": {
        "colab": {
          "base_uri": "https://localhost:8080/"
        },
        "id": "27PyeatZrix6",
        "outputId": "e62922d0-49d3-42f0-e453-03549f33d660"
      },
      "source": [
        "estimators=[50,100,200,300,400,500]\n",
        "trainn=[]\n",
        "testt=[]\n",
        "for est in estimators:\n",
        "  _,a,b=random_forest(est,6)\n",
        "  trainn.append(a)\n",
        "  testt.append(b)\n",
        "  print('\\n')"
      ],
      "execution_count": null,
      "outputs": [
        {
          "output_type": "stream",
          "text": [
            "accuracy 0.7125907742661348\n",
            "train accuracy 0.716634701444828\n",
            "\n",
            "\n",
            "accuracy 0.7122839316763834\n",
            "train accuracy 0.7154583812811661\n",
            "\n",
            "\n",
            "accuracy 0.7122839316763834\n",
            "train accuracy 0.7158419639432297\n",
            "\n",
            "\n",
            "accuracy 0.7120793699498824\n",
            "train accuracy 0.715483953458637\n",
            "\n",
            "\n",
            "accuracy 0.7122839316763834\n",
            "train accuracy 0.7155350978135788\n",
            "\n",
            "\n",
            "accuracy 0.7122839316763834\n",
            "train accuracy 0.7155095256361079\n",
            "\n",
            "\n"
          ],
          "name": "stdout"
        }
      ]
    },
    {
      "cell_type": "code",
      "metadata": {
        "id": "C93-X_DIRWsw"
      },
      "source": [
        "from matplotlib.legend_handler import HandlerLine2D\n",
        "def plott(ta,va,param,namex):\n",
        "  line1, = plt.plot(param, ta, 'b', label='Train ACC')\n",
        "  line2, = plt.plot(param, va, 'r', label='Test ACC')\n",
        "  plt.legend(handler_map={line1: HandlerLine2D(numpoints=2)})\n",
        "  plt.ylabel('ACCURACY')\n",
        "  plt.xlabel(namex)\n",
        "  plt.show()"
      ],
      "execution_count": null,
      "outputs": []
    },
    {
      "cell_type": "code",
      "metadata": {
        "colab": {
          "base_uri": "https://localhost:8080/",
          "height": 280
        },
        "id": "DE995fzNri0J",
        "outputId": "8af1e695-0505-426a-dcb1-d9132d01effd"
      },
      "source": [
        "plott(trainn,testt,estimators,'n_estimators')"
      ],
      "execution_count": null,
      "outputs": [
        {
          "output_type": "display_data",
          "data": {
            "image/png": "[encoded data removed]",
            "text/plain": [
              "<Figure size 432x288 with 1 Axes>"
            ]
          },
          "metadata": {
            "needs_background": "light"
          }
        }
      ]
    },
    {
      "cell_type": "markdown",
      "metadata": {
        "id": "UeeUs20zSlQR"
      },
      "source": [
        "It seems **estimators** do not have much effect on accuracy, however we can keep estimators as 200. Lets check the effect with **max_depth**"
      ]
    },
    {
      "cell_type": "code",
      "metadata": {
        "colab": {
          "base_uri": "https://localhost:8080/"
        },
        "id": "4zqu-JmqwrXv",
        "outputId": "393c30f5-098b-431b-dcdc-b812371a5e44"
      },
      "source": [
        "train_accur=[]\n",
        "valid_accur=[]\n",
        "max_depth1=[4,6,8,10,12,15,18]\n",
        "for depth in max_depth1:\n",
        "  _,a,b=random_forest(200,depth)\n",
        "  train_accur.append(a)\n",
        "  valid_accur.append(b)\n",
        "  print(\"\\n\")"
      ],
      "execution_count": null,
      "outputs": [
        {
          "output_type": "stream",
          "text": [
            "accuracy 0.7061470798813542\n",
            "train accuracy 0.7083237437667818\n",
            "\n",
            "\n",
            "accuracy 0.7142272680781426\n",
            "train accuracy 0.7164301240250608\n",
            "\n",
            "\n",
            "accuracy 0.7243530735399407\n",
            "train accuracy 0.7308016877637131\n",
            "\n",
            "\n",
            "accuracy 0.7355016876342436\n",
            "train accuracy 0.7553765503132591\n",
            "\n",
            "\n",
            "accuracy 0.743581875831032\n",
            "train accuracy 0.7862933128755913\n",
            "\n",
            "\n",
            "accuracy 0.747161706044799\n",
            "train accuracy 0.8429356859736606\n",
            "\n",
            "\n",
            "accuracy 0.7495141658995602\n",
            "train accuracy 0.8951540723692623\n",
            "\n",
            "\n"
          ],
          "name": "stdout"
        }
      ]
    },
    {
      "cell_type": "code",
      "metadata": {
        "colab": {
          "base_uri": "https://localhost:8080/",
          "height": 280
        },
        "id": "8xPVYSPmxdr_",
        "outputId": "e82d4e13-b20a-4054-9e69-cd5c16d09a50"
      },
      "source": [
        "plott(train_accur,valid_accur,max_depth1,'max_depth')"
      ],
      "execution_count": null,
      "outputs": [
        {
          "output_type": "display_data",
          "data": {
            "image/png": "[encoded data removed]",
            "text/plain": [
              "<Figure size 432x288 with 1 Axes>"
            ]
          },
          "metadata": {
            "needs_background": "light"
          }
        }
      ]
    },
    {
      "cell_type": "markdown",
      "metadata": {
        "id": "xJuOUNQUyXS5"
      },
      "source": [
        "we observe that incresing the max_depth has a positive effect, But after 12 max_depth validation accuracy is not increasing and is constant, but train accuracy increase drastically that means, it starts overfitting on train data after 12 max_depth of trees. so lets not overfit on train data and choose max_depth=12 & estimators=200"
      ]
    },
    {
      "cell_type": "code",
      "metadata": {
        "colab": {
          "base_uri": "https://localhost:8080/"
        },
        "id": "TiB7C8EvzU4D",
        "outputId": "6f4c2ceb-bcbf-4c36-835b-1a8b32e27511"
      },
      "source": [
        "final_modl,_,_1=random_forest(200,12)"
      ],
      "execution_count": null,
      "outputs": [
        {
          "output_type": "stream",
          "text": [
            "accuracy 0.743581875831032\n",
            "train accuracy 0.7862933128755913\n"
          ],
          "name": "stdout"
        }
      ]
    },
    {
      "cell_type": "code",
      "metadata": {
        "colab": {
          "base_uri": "https://localhost:8080/"
        },
        "id": "GNYNqddn0CN6",
        "outputId": "b7e0a34b-f14c-4615-f820-80478d3f2816"
      },
      "source": [
        "print(final_modl)"
      ],
      "execution_count": null,
      "outputs": [
        {
          "output_type": "stream",
          "text": [
            "RandomForestClassifier(bootstrap=True, ccp_alpha=0.0, class_weight=None,\n",
            "                       criterion='gini', max_depth=12, max_features='auto',\n",
            "                       max_leaf_nodes=None, max_samples=None,\n",
            "                       min_impurity_decrease=0.0, min_impurity_split=None,\n",
            "                       min_samples_leaf=1, min_samples_split=2,\n",
            "                       min_weight_fraction_leaf=0.0, n_estimators=200,\n",
            "                       n_jobs=None, oob_score=False, random_state=0, verbose=0,\n",
            "                       warm_start=False)\n"
          ],
          "name": "stdout"
        }
      ]
    },
    {
      "cell_type": "markdown",
      "metadata": {
        "id": "9DDgjPnWw8re"
      },
      "source": [
        "Lets try the boosting models"
      ]
    },
    {
      "cell_type": "code",
      "metadata": {
        "id": "kRVkTK7Gv1Hs"
      },
      "source": [
        "from xgboost import XGBClassifier\n",
        "from sklearn import linear_model"
      ],
      "execution_count": null,
      "outputs": []
    },
    {
      "cell_type": "code",
      "metadata": {
        "id": "xnCm2Yidri2c"
      },
      "source": [
        "def model_xgb(depth,est,rte):\n",
        "  modelxg=XGBClassifier(max_depth=depth,learning_rate=rte,n_estimators=est,random_state=0)\n",
        "  modelxg.fit(X_train,y_train,early_stopping_rounds=5,eval_set=[(X_test,y_test)],verbose=False)\n",
        "  pred_tr=modelxg.predict(X_train)\n",
        "  pred=modelxg.predict(X_test)\n",
        "  valid_acc=metrics.accuracy_score(y_test,pred)\n",
        "  train_acc=metrics.accuracy_score(y_train,pred_tr)\n",
        "  print(\"accuracy\",metrics.accuracy_score(y_test,pred))\n",
        "  #print('auc',metrics.roc_auc_score(y_test,pred))\n",
        "  print(\"train accuracy\",metrics.accuracy_score(y_train,pred_tr))\n",
        "  return modelxg,train_acc,valid_acc"
      ],
      "execution_count": null,
      "outputs": []
    },
    {
      "cell_type": "markdown",
      "metadata": {
        "id": "-WGJFbYLJ6p3"
      },
      "source": [
        "We will check tune parameter max_depth, as here n_estimators will be automatically fixed to the best because i am using early stopping"
      ]
    },
    {
      "cell_type": "code",
      "metadata": {
        "colab": {
          "base_uri": "https://localhost:8080/"
        },
        "id": "RqWLu37ixDEG",
        "outputId": "7dc8ae4b-1419-4fe2-d660-9bc683f588f0"
      },
      "source": [
        "train_accuracy=[]\n",
        "valid_accuracy=[]\n",
        "max_depth=[4,6,8,10,12,15]\n",
        "for depth in max_depth:\n",
        "  _,a,b=model_xgb(depth,500,0.1)\n",
        "  train_accuracy.append(a)\n",
        "  valid_accuracy.append(b)\n",
        "  print(\"\\n\")"
      ],
      "execution_count": null,
      "outputs": [
        {
          "output_type": "stream",
          "text": [
            "accuracy 0.710749718727626\n",
            "train accuracy 0.7129267357115459\n",
            "\n",
            "\n",
            "accuracy 0.736013091950496\n",
            "train accuracy 0.7475003196522184\n",
            "\n",
            "\n",
            "accuracy 0.75155978316457\n",
            "train accuracy 0.7747346886587393\n",
            "\n",
            "\n",
            "accuracy 0.74317275237803\n",
            "train accuracy 0.778570515279376\n",
            "\n",
            "\n",
            "accuracy 0.758105758412601\n",
            "train accuracy 0.8394067254826748\n",
            "\n",
            "\n",
            "accuracy 0.751355221438069\n",
            "train accuracy 0.8484337041299067\n",
            "\n",
            "\n"
          ],
          "name": "stdout"
        }
      ]
    },
    {
      "cell_type": "code",
      "metadata": {
        "colab": {
          "base_uri": "https://localhost:8080/",
          "height": 280
        },
        "id": "2w3OfaPmIkXn",
        "outputId": "6501d7e8-2ad4-4a67-88eb-ddff3cf10480"
      },
      "source": [
        "plott(train_accuracy,valid_accuracy,max_depth,'max_depth')"
      ],
      "execution_count": null,
      "outputs": [
        {
          "output_type": "display_data",
          "data": {
            "image/png": "[encoded data removed]",
            "text/plain": [
              "<Figure size 432x288 with 1 Axes>"
            ]
          },
          "metadata": {
            "needs_background": "light"
          }
        }
      ]
    },
    {
      "cell_type": "code",
      "metadata": {
        "colab": {
          "base_uri": "https://localhost:8080/"
        },
        "id": "lQNizrjUxDG1",
        "outputId": "4adc860e-8d45-418c-e233-f23cc843254c"
      },
      "source": [
        "learning_rate=[0.05,0.01,0.1,0.15]\n",
        "tr=[]\n",
        "tes=[]\n",
        "for lr in learning_rate:\n",
        "  _,a,b=model_xgb(12,500,lr)\n",
        "  tr.append(a)\n",
        "  tes.append(b)\n",
        "  print(\"\\n\")"
      ],
      "execution_count": null,
      "outputs": [
        {
          "output_type": "stream",
          "text": [
            "accuracy 0.7492073233098088\n",
            "train accuracy 0.8079785193709245\n",
            "\n",
            "\n",
            "accuracy 0.7358085302239951\n",
            "train accuracy 0.7764480245492904\n",
            "\n",
            "\n",
            "accuracy 0.758105758412601\n",
            "train accuracy 0.8394067254826748\n",
            "\n",
            "\n",
            "accuracy 0.7579011966861\n",
            "train accuracy 0.8394322976601457\n",
            "\n",
            "\n"
          ],
          "name": "stdout"
        }
      ]
    },
    {
      "cell_type": "markdown",
      "metadata": {
        "id": "u_4ollRZN5kI"
      },
      "source": [
        "Lets check the change in accuracy with learning rate, it is evident below that 0.1 is optimal\n"
      ]
    },
    {
      "cell_type": "code",
      "metadata": {
        "colab": {
          "base_uri": "https://localhost:8080/",
          "height": 280
        },
        "id": "FZ8LP0reO2b5",
        "outputId": "5d90dd7c-9c30-4c05-8caa-530b6541f386"
      },
      "source": [
        "plott(tr,tes,learning_rate,'learning_rate')"
      ],
      "execution_count": null,
      "outputs": [
        {
          "output_type": "display_data",
          "data": {
            "image/png": "[encoded data removed]",
            "text/plain": [
              "<Figure size 432x288 with 1 Axes>"
            ]
          },
          "metadata": {
            "needs_background": "light"
          }
        }
      ]
    },
    {
      "cell_type": "code",
      "metadata": {
        "colab": {
          "base_uri": "https://localhost:8080/"
        },
        "id": "NObr0wmWri41",
        "outputId": "eb66e623-ee7f-4795-e81e-60d16180086a"
      },
      "source": [
        "final_model2,_,_1=model_xgb(12,500,0.1)"
      ],
      "execution_count": null,
      "outputs": [
        {
          "output_type": "stream",
          "text": [
            "accuracy 0.7540145238825816\n",
            "train accuracy 0.8266717811021609\n"
          ],
          "name": "stdout"
        }
      ]
    },
    {
      "cell_type": "code",
      "metadata": {
        "colab": {
          "base_uri": "https://localhost:8080/"
        },
        "id": "8B5H33ZVTrGD",
        "outputId": "a11b3039-ab49-478c-8f66-9150fd70d753"
      },
      "source": [
        "print(final_model2)"
      ],
      "execution_count": null,
      "outputs": [
        {
          "output_type": "stream",
          "text": [
            "XGBClassifier(base_score=0.5, booster='gbtree', colsample_bylevel=1,\n",
            "              colsample_bynode=1, colsample_bytree=1, gamma=0,\n",
            "              learning_rate=0.1, max_delta_step=0, max_depth=12,\n",
            "              min_child_weight=1, missing=None, n_estimators=500, n_jobs=1,\n",
            "              nthread=None, objective='binary:logistic', random_state=0,\n",
            "              reg_alpha=0, reg_lambda=1, scale_pos_weight=1, seed=None,\n",
            "              silent=None, subsample=1, verbosity=1)\n"
          ],
          "name": "stdout"
        }
      ]
    },
    {
      "cell_type": "markdown",
      "metadata": {
        "id": "FCgoSGoV_BM3"
      },
      "source": [
        "The problem with the above appoach is testing new data and figuring the category to which the belong if the data has features categories which are unseen before. so lets try with including rare category in our data, so that it can work with new data even if they have new feature category. let describe each category as rare if its count is less than 5 in dataset or is unseen before."
      ]
    },
    {
      "cell_type": "code",
      "metadata": {
        "id": "SBpVQFUY1PVy"
      },
      "source": [
        ""
      ],
      "execution_count": null,
      "outputs": []
    }
  ]
}